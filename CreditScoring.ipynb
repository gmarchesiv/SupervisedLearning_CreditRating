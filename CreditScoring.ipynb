{
 "cells": [
  {
   "cell_type": "markdown",
   "id": "db525a3c",
   "metadata": {},
   "source": [
    "# Supervised learning applied to transaction approval\n",
    "\n",
    "by Giancarlo Marchesi\n",
    "\n",
    "This notebook contains the analysis for a series of credit scoring models for a direct account payment gateway company.\n",
    "\n",
    "A payment gateway is a merchant service provided by an e-commerce application service provider that authorizes credit card or direct payments processing for e-businesses, online retailers, bricks and clicks, or traditional brick and mortar. This particular gateway company authorizes direct payments to merchants from customers bank accounts. The gateway has no online connection to banks, so it must rely on its own scoring models to determine which customers to approve. Bad transactions occur when customers do not have funds in their accounts at the time. Merchants get paid immediately, so default risk stays with the gateway company.\n",
    "\n",
    "The company currently has scores from two credit rating providers, yet has a manual process to approve the transactions. Unless they get specific confirmation by phone from the customer's bank that the customer's account is empty, the transaction is approved. Hence, they are not leveraging the data from the providers. Hence, bad (insolvent) transactions are frequent. The client wants to know how to use the data they have effectively to have a better risk model and be profitable. The sector in which the company operates is risky. The commerces do not take credit cards, only direct payments. Commerces that use these methods are generally in riskier economic activities and therefore, attract riskier clients.\n",
    "\n",
    "The analysis presents alternative credit socring models using supervised machine learning methods that combine these scores and other available data. The data is from a private direct payment processing company. Only features pertaining to the analysis are shown in the dataset. A logistic regression model and a KNN model will be compared to score 1 and score 2 by themselves as well as the interaction term of both. The hypothesis is that ML models can provide additional insight to the independent scores.   \n",
    "\n",
    "The result of this analysis should advise the company on a model that will make their business more profitable."
   ]
  },
  {
   "cell_type": "markdown",
   "id": "dcca47d6",
   "metadata": {},
   "source": [
    "## Exploring the data"
   ]
  },
  {
   "cell_type": "code",
   "execution_count": null,
   "id": "ad8c0342",
   "metadata": {},
   "outputs": [],
   "source": [
    "import numpy as np\n",
    "import pandas as pd\n",
    "import matplotlib.pyplot as plt\n",
    "import statsmodels.api as sm\n",
    "import warnings\n",
    "warnings.filterwarnings('ignore')"
   ]
  },
  {
   "cell_type": "code",
   "execution_count": null,
   "id": "48114034",
   "metadata": {},
   "outputs": [],
   "source": [
    "df=pd.read_csv('data_final_2.csv', sep=\";\")"
   ]
  },
  {
   "cell_type": "code",
   "execution_count": null,
   "id": "7c46973d",
   "metadata": {},
   "outputs": [],
   "source": [
    "df.head()"
   ]
  },
  {
   "cell_type": "code",
   "execution_count": null,
   "id": "d9f4b98f",
   "metadata": {},
   "outputs": [],
   "source": [
    "df.info()"
   ]
  },
  {
   "cell_type": "code",
   "execution_count": null,
   "id": "6f20faf9",
   "metadata": {},
   "outputs": [],
   "source": [
    "df.shape"
   ]
  },
  {
   "cell_type": "markdown",
   "id": "d19a5d6f",
   "metadata": {},
   "source": [
    "The dataset contains 824 observations and 11 features. "
   ]
  },
  {
   "cell_type": "markdown",
   "id": "b89b8d23",
   "metadata": {},
   "source": [
    "### Feature description"
   ]
  },
  {
   "cell_type": "markdown",
   "id": "4b34325c",
   "metadata": {},
   "source": [
    "- `score_1`: client risk category depending on score from provider 1. Five possible categories: excellent, good, medium, bad  and no data (nd)\n",
    "- `risk_score1`: binary variable according to risk profile from provider 1. Excellent and good are assigned a score of 0. The rest of the categories get a score of 1. \n",
    "- `score_2`:  client risk category depending on score from provider 2. Five possible categories: excellent, good, medium, bad  and no data (nd)\n",
    "- `risk_score2`: binary variable according to risk profile from provider 2. Excellent and good are assigned a score of 0. The rest of the categories get a score of 1. \n",
    "- `interaction_1`: interaction term between score_1 and score_2. If both have a score of 1, the variable will be 1, i.e a risky client. In other cases, the variable will be 0.  \n",
    "- `interaction_2`: its a more stringent definition of risk. Only the combinations of excellent, excellent and good,excellent in both permutations are considered 0. The rest are considered 1 (i.e risky). \n",
    "- `transaction`: es is the dollar amount of the transaction\n",
    "- `bad_transaction`: binary variable where 1 corresponds to a bounced transaction (bad electronic check) and 0 is a succesful transaction (i.e the customer had the necessary funds). \n",
    "- `state`: two letters corresponding to the state in the United States\n",
    "- `population`: binary variable where 1 is assigned to the most populous states: California, Texas, Florida, New York y Pennsylvania \n",
    "- `sc_control`: binary variable where 1 is assigned to the state of South Carolina. It has a disproportionate amount of transactions in the dataset for the size of its population. "
   ]
  },
  {
   "cell_type": "markdown",
   "id": "167f0a6a",
   "metadata": {},
   "source": [
    "## Exploring the features"
   ]
  },
  {
   "cell_type": "code",
   "execution_count": null,
   "id": "a27fac2f",
   "metadata": {},
   "outputs": [],
   "source": [
    "## How many transactions are considered risky by the first score?\n",
    "df.risk_score1.sum()"
   ]
  },
  {
   "cell_type": "code",
   "execution_count": null,
   "id": "d82ba5e7",
   "metadata": {},
   "outputs": [],
   "source": [
    "## How many transactions are considered risky by the second score?\n",
    "df.risk_score2.sum()"
   ]
  },
  {
   "cell_type": "code",
   "execution_count": null,
   "id": "ce8c1087",
   "metadata": {},
   "outputs": [],
   "source": [
    "## How many transactions were actually bad?\n",
    "df.bad_transaction.sum()"
   ]
  },
  {
   "cell_type": "code",
   "execution_count": null,
   "id": "1fc28ced",
   "metadata": {},
   "outputs": [],
   "source": [
    "## What percentage of transactions are bad? \n",
    "153/824"
   ]
  },
  {
   "cell_type": "code",
   "execution_count": null,
   "id": "4fe59bcd",
   "metadata": {},
   "outputs": [],
   "source": [
    "## How many transactions are considered risky by the first interaction term?\n",
    "df.interaction_1.sum()"
   ]
  },
  {
   "cell_type": "code",
   "execution_count": null,
   "id": "2e1d687e",
   "metadata": {},
   "outputs": [],
   "source": [
    "## How many transactions are considered risky by the second interaction term?\n",
    "df.interaction_2.sum()"
   ]
  },
  {
   "cell_type": "code",
   "execution_count": null,
   "id": "a1e0657c",
   "metadata": {},
   "outputs": [],
   "source": [
    "## The average size of a transaction in USD\n",
    "df.transaction.mean()"
   ]
  },
  {
   "cell_type": "code",
   "execution_count": null,
   "id": "67b0cc5b",
   "metadata": {},
   "outputs": [],
   "source": [
    "df[df['bad_transaction']==0]['transaction'].mean()"
   ]
  },
  {
   "cell_type": "code",
   "execution_count": null,
   "id": "f48f41ce",
   "metadata": {},
   "outputs": [],
   "source": [
    "df[df['bad_transaction']==1]['transaction'].mean()"
   ]
  },
  {
   "cell_type": "markdown",
   "id": "1729e5fb",
   "metadata": {},
   "source": [
    "The actual bad trasaction number is relatively high (18.56%), which is a good problem to have because we are not facing an unbalanced sample. There should be enough signal from the bad_transactions variable to apply ML. However, the dataset is relatively small. K-fold validation might be a good tool to implement in this case to optimize the hyperparameters and test which alternatives will give us better results. \n",
    "\n",
    "It is interersting to note that the bad transactions predicted by Score 1 and Score 2 are somewhere in between `bad transaction`, while the interaction terms seem to be way off. However, this does not mean that either model predicted bad transactions correctly.  We want to calculate the accuracy for each risk score or alternative ML model to get this number.\n",
    "\n",
    "Bad transactions seem to be slightly larger than good transcations, by $3.5 dollars. "
   ]
  },
  {
   "cell_type": "markdown",
   "id": "f39c9d11",
   "metadata": {},
   "source": [
    "## The business problem"
   ]
  },
  {
   "cell_type": "markdown",
   "id": "69272bca",
   "metadata": {},
   "source": [
    "The economics for the business are as follows: \n",
    "- The business loses 100% of bad transactions \n",
    "- The business charges 5% of good transactions\n",
    "\n",
    "According to the dataset, this is the current state of the business: "
   ]
  },
  {
   "cell_type": "code",
   "execution_count": 824,
   "id": "24298971",
   "metadata": {},
   "outputs": [
    {
     "data": {
      "text/plain": [
       "11892"
      ]
     },
     "execution_count": 824,
     "metadata": {},
     "output_type": "execute_result"
    }
   ],
   "source": [
    "## Money lost\n",
    "lost=df['bad_transaction']*df['transaction']\n",
    "lost.sum()"
   ]
  },
  {
   "cell_type": "code",
   "execution_count": 825,
   "id": "74cd6fae",
   "metadata": {},
   "outputs": [],
   "source": [
    "## Money made\n",
    "made=0.05*(df[df['bad_transaction']==0]['transaction'].sum())"
   ]
  },
  {
   "cell_type": "code",
   "execution_count": 826,
   "id": "ec28319a",
   "metadata": {},
   "outputs": [
    {
     "data": {
      "text/plain": [
       "2490.5"
      ]
     },
     "execution_count": 826,
     "metadata": {},
     "output_type": "execute_result"
    }
   ],
   "source": [
    "made"
   ]
  },
  {
   "cell_type": "code",
   "execution_count": 827,
   "id": "55b1b5ce",
   "metadata": {},
   "outputs": [
    {
     "data": {
      "text/plain": [
       "-9401.5"
      ]
     },
     "execution_count": 827,
     "metadata": {},
     "output_type": "execute_result"
    }
   ],
   "source": [
    "## Profit\n",
    "profit=made-lost.sum()\n",
    "profit"
   ]
  },
  {
   "cell_type": "markdown",
   "id": "2190d49b",
   "metadata": {},
   "source": [
    "The company lost USD 9400 because their credit scoring process is lacking. It does not really account for risk, since it approves most transactions. The CEO wants to know how to reduce bad transactions to increase profits (or decrease losses).  \n",
    "\n",
    "The analysis will center on finding the best classification model to minimize losses from the following alternatives: \n",
    "\n",
    "- Credit Score 1\n",
    "- Credit Score 2\n",
    "- Interactions of Score 1 and Score 2 \n",
    "- Logistic regression model \n",
    "- KNN model "
   ]
  },
  {
   "cell_type": "markdown",
   "id": "a363da57",
   "metadata": {},
   "source": [
    "## Model 1: Credit Score 1"
   ]
  },
  {
   "cell_type": "markdown",
   "id": "ca22574d",
   "metadata": {},
   "source": [
    "The accuracy of Credit Score 1 can be analyzed with a confusion matrix. This classifies transactions in four groups: \n",
    "\n",
    "- True positives:  transactions that the score predicted would be good and indeed the customer had funds \n",
    "- True negatives:  transactions that the score predicted would be losses and indeed the customer had no funds \n",
    "- False positives: transactions that the score predicted would be good but the customer had no funds \n",
    "- False negatives: transactions that the score predicted would be losses but did have funds"
   ]
  },
  {
   "cell_type": "code",
   "execution_count": null,
   "id": "e7622cdc",
   "metadata": {},
   "outputs": [],
   "source": [
    "## Confusion Matrix for Score 1\n",
    "from sklearn.metrics import confusion_matrix, ConfusionMatrixDisplay\n",
    "\n",
    "# Generating the confusion matrix  \n",
    "cf_matrix = confusion_matrix(df.bad_transaction, df.risk_score1)\n",
    "\n",
    "# where bad_transaction is the actual outcome and risk_score 1 is the predicted outcome\n",
    "\n",
    "# Displaying the confusion matrix\n",
    "ConfusionMatrixDisplay(cf_matrix).plot(cmap='Greens')\n",
    "plt.show()"
   ]
  },
  {
   "cell_type": "markdown",
   "id": "fb248244",
   "metadata": {},
   "source": [
    "Remember, '1' is a bad transaction, i.e. \"a positive\" in the nomenclature. \n",
    "\n",
    "The matrix is read in the following way: \n",
    "    \n",
    "- True, Predicted (0,0). True negative. The transaction was good and the model predicted it as such. 598\n",
    "- True, Predicted (1,0). False negative. The transaccion was bad, but the model predicted it would be good. 100\n",
    "- True, Predicted (1,1). True positives. The transaction was bad and the model predicted it as such. 53\n",
    "- True, Predicted (0,1). False positive. The transaction was good but the model predicted it would be bad. 73 "
   ]
  },
  {
   "cell_type": "code",
   "execution_count": null,
   "id": "7c5df9ea",
   "metadata": {},
   "outputs": [],
   "source": [
    "tn=598\n",
    "fn=100\n",
    "tp=53\n",
    "fp=73\n",
    "sum_all=824"
   ]
  },
  {
   "cell_type": "markdown",
   "id": "9edcab70",
   "metadata": {},
   "source": [
    "We can use three model evaluation metrics to check which proposed alternative will be better. \n",
    "\n",
    "Because accuracy alone can be misleading depending on the class balance of the data, two other metrics are used in conjuction.   \n",
    "\n",
    "1. Accuracy: percentage of trues that the model gets correctly\n",
    "\n",
    "2. Precision: measures what proportion of a model assigned to positive are actually members of the positive class: \n",
    "\n",
    "3. Recall:  measures how many members of the positive class the model correctly identified out of the total"
   ]
  },
  {
   "cell_type": "markdown",
   "id": "af301872",
   "metadata": {},
   "source": [
    "Using these definitions, accuracy can be written as:\n",
    "\n",
    "$$Accuracy = \\frac{TN+TP}{TN+FP+FN+TP}$$"
   ]
  },
  {
   "cell_type": "code",
   "execution_count": null,
   "id": "2af9f125",
   "metadata": {},
   "outputs": [],
   "source": [
    "accu_score1= (tn + tp )/ sum_all"
   ]
  },
  {
   "cell_type": "code",
   "execution_count": null,
   "id": "ba35354e",
   "metadata": {},
   "outputs": [],
   "source": [
    "accu_score1"
   ]
  },
  {
   "cell_type": "markdown",
   "id": "98930271",
   "metadata": {},
   "source": [
    "Accuracy of score 1 is 79%"
   ]
  },
  {
   "cell_type": "markdown",
   "id": "c27f02cb",
   "metadata": {},
   "source": [
    "Precision measures what proportion of a model assigned to positive are actually members of the positive class:\n",
    "\n",
    "$$Precision = \\frac{TP}{TP+FP}$$"
   ]
  },
  {
   "cell_type": "code",
   "execution_count": null,
   "id": "e6f43a7d",
   "metadata": {},
   "outputs": [],
   "source": [
    "prec_score1=tp/(tp+fp)"
   ]
  },
  {
   "cell_type": "code",
   "execution_count": null,
   "id": "221bfa74",
   "metadata": {},
   "outputs": [],
   "source": [
    "prec_score1"
   ]
  },
  {
   "cell_type": "markdown",
   "id": "a3666a5a",
   "metadata": {},
   "source": [
    "The model is not very precise. False positives are more than true positives. "
   ]
  },
  {
   "cell_type": "markdown",
   "id": "86589728",
   "metadata": {},
   "source": [
    "Recall measures how many members of the positive class the model correctly identified out of the total:\n",
    "\n",
    "$$Recall = \\frac{TP}{TP+FN}$$"
   ]
  },
  {
   "cell_type": "code",
   "execution_count": null,
   "id": "41423785",
   "metadata": {},
   "outputs": [],
   "source": [
    "rec_score1=tp/(tp+fn)"
   ]
  },
  {
   "cell_type": "code",
   "execution_count": null,
   "id": "e394eb0b",
   "metadata": {},
   "outputs": [],
   "source": [
    "rec_score1"
   ]
  },
  {
   "cell_type": "markdown",
   "id": "d3338f07",
   "metadata": {},
   "source": [
    "Recall is lacking at 0.34. It classified 100 observations as false negatives."
   ]
  },
  {
   "cell_type": "markdown",
   "id": "ed8646b1",
   "metadata": {},
   "source": [
    "### Profit"
   ]
  },
  {
   "cell_type": "markdown",
   "id": "0d36f0ba",
   "metadata": {},
   "source": [
    "It the business only used this model, fp and tp would have not been accepted as transactions: 73+53 observations would have been labeled as risky. "
   ]
  },
  {
   "cell_type": "code",
   "execution_count": null,
   "id": "7e992dd3",
   "metadata": {},
   "outputs": [],
   "source": [
    "## Calculating the tn dataframe\n",
    "tndf=df[(df['risk_score1']==0) & (df['bad_transaction']==0)]"
   ]
  },
  {
   "cell_type": "code",
   "execution_count": null,
   "id": "79940094",
   "metadata": {},
   "outputs": [],
   "source": [
    "tndf.shape"
   ]
  },
  {
   "cell_type": "markdown",
   "id": "7d540608",
   "metadata": {},
   "source": [
    "Indeed it has 598 observations as in the confussion matrix. "
   ]
  },
  {
   "cell_type": "code",
   "execution_count": null,
   "id": "048991b5",
   "metadata": {},
   "outputs": [],
   "source": [
    "## Estimating revenue\n",
    "Revenue_score1=0.05*(tndf['transaction'].sum())"
   ]
  },
  {
   "cell_type": "code",
   "execution_count": null,
   "id": "cf07cab5",
   "metadata": {
    "scrolled": true
   },
   "outputs": [],
   "source": [
    "Revenue_score1"
   ]
  },
  {
   "cell_type": "code",
   "execution_count": null,
   "id": "13de5581",
   "metadata": {},
   "outputs": [],
   "source": [
    "## Calculating the fn dataframe\n",
    "fndf=df[(df['risk_score1']==0) & (df['bad_transaction']==1)]"
   ]
  },
  {
   "cell_type": "code",
   "execution_count": null,
   "id": "f0bd46d6",
   "metadata": {},
   "outputs": [],
   "source": [
    "## indeed the frame has 100 observations as in the confusion matrix\n",
    "fndf.shape"
   ]
  },
  {
   "cell_type": "code",
   "execution_count": null,
   "id": "2a59a7a2",
   "metadata": {},
   "outputs": [],
   "source": [
    "loss_score1=(fndf['transaction'].sum())"
   ]
  },
  {
   "cell_type": "code",
   "execution_count": null,
   "id": "495059b4",
   "metadata": {},
   "outputs": [],
   "source": [
    "loss_score1"
   ]
  },
  {
   "cell_type": "code",
   "execution_count": null,
   "id": "91f18f9e",
   "metadata": {},
   "outputs": [],
   "source": [
    "Profit_score1=Revenue_score1-loss_score1"
   ]
  },
  {
   "cell_type": "code",
   "execution_count": null,
   "id": "64a33b84",
   "metadata": {},
   "outputs": [],
   "source": [
    "Profit_score1"
   ]
  },
  {
   "cell_type": "markdown",
   "id": "35fe84d3",
   "metadata": {},
   "source": [
    "So by using the score from provider 1, the company has saved 3972 dollars versus not using a score at all. This is better, but they are still operating at a loss of 5429 dollars. The main problem is that false negatives are very costly, since they lose 100% of the transaction, and these on average are even larger than the good transactions. "
   ]
  },
  {
   "cell_type": "markdown",
   "id": "46887765",
   "metadata": {},
   "source": [
    "## Model 2: Credit Score 2"
   ]
  },
  {
   "cell_type": "code",
   "execution_count": null,
   "id": "caea148a",
   "metadata": {},
   "outputs": [],
   "source": [
    "## Confusion Matrix for Score 2\n",
    "\n",
    "# Generating the confusion matrix  \n",
    "cf_matrix2 = confusion_matrix(df.bad_transaction, df.risk_score2)\n",
    "\n",
    "# where bad_transaction is the actual score and risk_score 2 is the predicted score\n",
    "\n",
    "# Displaying the confusion matrix\n",
    "ConfusionMatrixDisplay(cf_matrix2).plot(cmap='Blues')\n",
    "plt.show()"
   ]
  },
  {
   "cell_type": "code",
   "execution_count": null,
   "id": "ebc81af6",
   "metadata": {},
   "outputs": [],
   "source": [
    "tn2=527\n",
    "fn2=118\n",
    "tp2=35\n",
    "fp2=144\n",
    "sum_all=824"
   ]
  },
  {
   "cell_type": "code",
   "execution_count": null,
   "id": "0a474437",
   "metadata": {},
   "outputs": [],
   "source": [
    "accu_score2= (tn2 + tp2)/ sum_all"
   ]
  },
  {
   "cell_type": "code",
   "execution_count": null,
   "id": "439f726a",
   "metadata": {},
   "outputs": [],
   "source": [
    "accu_score2"
   ]
  },
  {
   "cell_type": "markdown",
   "id": "7520403a",
   "metadata": {},
   "source": [
    "Accuracy is lower than for model 1. "
   ]
  },
  {
   "cell_type": "code",
   "execution_count": null,
   "id": "04c3d909",
   "metadata": {},
   "outputs": [],
   "source": [
    "prec_score2=tp2/(tp2+fp2)"
   ]
  },
  {
   "cell_type": "code",
   "execution_count": null,
   "id": "fb83baca",
   "metadata": {},
   "outputs": [],
   "source": [
    "prec_score2"
   ]
  },
  {
   "cell_type": "code",
   "execution_count": null,
   "id": "7656461a",
   "metadata": {},
   "outputs": [],
   "source": [
    "rec_score2=tp2/(tp2+fn2)"
   ]
  },
  {
   "cell_type": "code",
   "execution_count": null,
   "id": "33ad44ea",
   "metadata": {},
   "outputs": [],
   "source": [
    "rec_score2"
   ]
  },
  {
   "cell_type": "markdown",
   "id": "854aa822",
   "metadata": {},
   "source": [
    "So are precission and recall. On all metrics, it is inferior to model 1. Hence, loss will be worse. No need to calculate profit here.   "
   ]
  },
  {
   "cell_type": "markdown",
   "id": "b5eac702",
   "metadata": {},
   "source": [
    "## Model 3: Interaction  of Score 1 & Score 2"
   ]
  },
  {
   "cell_type": "code",
   "execution_count": null,
   "id": "c2b1cdf2",
   "metadata": {},
   "outputs": [],
   "source": [
    "df.interaction_1.sum()"
   ]
  },
  {
   "cell_type": "raw",
   "id": "27cc1384",
   "metadata": {},
   "source": [
    "The interaction terms are used to estimate true positives. Here the number is really low, considering that positives are 153. This does not bode well. No need to calculate profit here.  "
   ]
  },
  {
   "cell_type": "code",
   "execution_count": null,
   "id": "51c1b8fc",
   "metadata": {},
   "outputs": [],
   "source": [
    "df.interaction_2.sum()"
   ]
  },
  {
   "cell_type": "markdown",
   "id": "218b662f",
   "metadata": {},
   "source": [
    "Interaction term 2 at least has a chance to catch all positives, but it's clear it will have a problem with false positives, reducing revenue for the company. Let's at least conduct the exercise to calculate profits under this model. "
   ]
  },
  {
   "cell_type": "code",
   "execution_count": null,
   "id": "0fdd6c8c",
   "metadata": {},
   "outputs": [],
   "source": [
    "## Confusion Matrix for interaction term 2\n",
    "\n",
    "# Generating the confusion matrix  \n",
    "cf_matrix3 = confusion_matrix(df.bad_transaction, df.interaction_2)\n",
    "\n",
    "# where bad_transaction is the actual score and interaction_2 is the predicted score\n",
    "\n",
    "# Displaying the confusion matrix\n",
    "ConfusionMatrixDisplay(cf_matrix3).plot(cmap='Reds')\n",
    "plt.show()"
   ]
  },
  {
   "cell_type": "markdown",
   "id": "2c7ede01",
   "metadata": {},
   "source": [
    "As expected, false positives are an issue, and the model only catches a bit more then half of the true positives. "
   ]
  },
  {
   "cell_type": "code",
   "execution_count": null,
   "id": "23517a20",
   "metadata": {},
   "outputs": [],
   "source": [
    "tn3=434\n",
    "fn3=67\n",
    "tp3=86\n",
    "fp3=237"
   ]
  },
  {
   "cell_type": "code",
   "execution_count": null,
   "id": "d2981f9a",
   "metadata": {},
   "outputs": [],
   "source": [
    "accu_score3= (tn3 + tp3)/ sum_all\n",
    "prec_score3=tp3/(tp3+fp3)\n",
    "rec_score3=tp3/(tp3+fn3)"
   ]
  },
  {
   "cell_type": "code",
   "execution_count": null,
   "id": "fd0e80c2",
   "metadata": {},
   "outputs": [],
   "source": [
    "accu_score3"
   ]
  },
  {
   "cell_type": "code",
   "execution_count": null,
   "id": "291511fe",
   "metadata": {},
   "outputs": [],
   "source": [
    "prec_score3"
   ]
  },
  {
   "cell_type": "code",
   "execution_count": null,
   "id": "8250e294",
   "metadata": {},
   "outputs": [],
   "source": [
    "rec_score3"
   ]
  },
  {
   "cell_type": "markdown",
   "id": "9fdd9a91",
   "metadata": {},
   "source": [
    "Since the recall score is the best seen so far, this could help the bottom line if it overcomes the tradeoff for loss in revenue from the false positives. "
   ]
  },
  {
   "cell_type": "code",
   "execution_count": null,
   "id": "62ddccfb",
   "metadata": {},
   "outputs": [],
   "source": [
    "## Calculating the tn dataframe\n",
    "tndf3=df[(df['interaction_2']==0) & (df['bad_transaction']==0)]"
   ]
  },
  {
   "cell_type": "code",
   "execution_count": null,
   "id": "e410bead",
   "metadata": {},
   "outputs": [],
   "source": [
    "tndf3.shape"
   ]
  },
  {
   "cell_type": "code",
   "execution_count": null,
   "id": "bb5d5093",
   "metadata": {},
   "outputs": [],
   "source": [
    "## Calculating the fn dataframe\n",
    "fndf3=df[(df['interaction_2']==0) & (df['bad_transaction']==1)]"
   ]
  },
  {
   "cell_type": "code",
   "execution_count": null,
   "id": "407a993f",
   "metadata": {},
   "outputs": [],
   "source": [
    "fndf3.shape"
   ]
  },
  {
   "cell_type": "code",
   "execution_count": null,
   "id": "0debfd4e",
   "metadata": {},
   "outputs": [],
   "source": [
    "## Estimating revenue\n",
    "Revenue3=0.05*(tndf3['transaction'].sum())"
   ]
  },
  {
   "cell_type": "code",
   "execution_count": null,
   "id": "c29a12a1",
   "metadata": {},
   "outputs": [],
   "source": [
    "Revenue3"
   ]
  },
  {
   "cell_type": "markdown",
   "id": "db018f82",
   "metadata": {},
   "source": [
    "Total revenue takes a substantial hit from losing the false positive revenue"
   ]
  },
  {
   "cell_type": "code",
   "execution_count": null,
   "id": "e7e680d9",
   "metadata": {},
   "outputs": [],
   "source": [
    "loss3=(fndf3['transaction'].sum())"
   ]
  },
  {
   "cell_type": "code",
   "execution_count": null,
   "id": "0b5c5e61",
   "metadata": {},
   "outputs": [],
   "source": [
    "Profit3=Revenue3-loss3"
   ]
  },
  {
   "cell_type": "code",
   "execution_count": null,
   "id": "199ba8de",
   "metadata": {},
   "outputs": [],
   "source": [
    "Profit3"
   ]
  },
  {
   "cell_type": "markdown",
   "id": "5005fef6",
   "metadata": {},
   "source": [
    "This is the best model so far, as the loss is smallest, USD 3607. This is because recall is the most important of the measures in terms for this particular business model. "
   ]
  },
  {
   "cell_type": "markdown",
   "id": "5ee33c35",
   "metadata": {},
   "source": [
    "## Model 4: Logistic Regression"
   ]
  },
  {
   "cell_type": "markdown",
   "id": "7891f4d8",
   "metadata": {},
   "source": [
    "### Using Scikit Learn"
   ]
  },
  {
   "cell_type": "markdown",
   "id": "ec0bf0e7",
   "metadata": {},
   "source": [
    "The objective of this model is to improve on the profit of the previous scores. \n",
    "To use a logistic regression model with this data, I want to follow the next steps: \n",
    "- Separate features and target \n",
    "- Scale the data\n",
    "- Optimize hyperparameters with k-fold validation\n",
    "- Fit model\n",
    "- Evaluate "
   ]
  },
  {
   "cell_type": "markdown",
   "id": "c14b0ed9",
   "metadata": {},
   "source": [
    "Since data is scarce, I will not be separating into the traditional train-test split. This is an ananlysis to help guide the company. With more data, and before taking the model to production, this could be done. "
   ]
  },
  {
   "cell_type": "code",
   "execution_count": null,
   "id": "e55746b8",
   "metadata": {},
   "outputs": [],
   "source": [
    "df.info()"
   ]
  },
  {
   "cell_type": "code",
   "execution_count": null,
   "id": "9cf503d9",
   "metadata": {},
   "outputs": [],
   "source": [
    "# Step 1: Separating the features and target\n",
    "X = df.iloc[:, [1,3,4,5,6,9,10]]\n",
    "y = df.iloc[:,7]\n",
    "\n",
    "# adding an intercept\n",
    "X = sm.add_constant(X)"
   ]
  },
  {
   "cell_type": "code",
   "execution_count": null,
   "id": "7f055fde",
   "metadata": {},
   "outputs": [],
   "source": [
    "X"
   ]
  },
  {
   "cell_type": "markdown",
   "id": "eb2ed7d6",
   "metadata": {},
   "source": [
    "Most are dummies except for transaction amount. Hence, we'll need to scale. "
   ]
  },
  {
   "cell_type": "code",
   "execution_count": null,
   "id": "7a31b1b9",
   "metadata": {},
   "outputs": [],
   "source": [
    "y"
   ]
  },
  {
   "cell_type": "code",
   "execution_count": null,
   "id": "cabbee0c",
   "metadata": {},
   "outputs": [],
   "source": [
    "## Additional libraries needed \n",
    "\n",
    "from sklearn.model_selection import train_test_split\n",
    "from sklearn.model_selection import cross_val_score\n",
    "from sklearn.preprocessing import StandardScaler\n",
    "from sklearn.linear_model import LogisticRegression\n",
    "from sklearn.metrics import classification_report\n",
    "import random\n",
    "np.random.seed(123)\n",
    "random.seed(123)\n"
   ]
  },
  {
   "cell_type": "code",
   "execution_count": null,
   "id": "c18aa00e",
   "metadata": {},
   "outputs": [],
   "source": [
    "## Step 2: Scaling the data\n",
    "\n",
    "# create an instance\n",
    "scaler = StandardScaler()\n",
    "\n",
    "# fit to training set\n",
    "scaler.fit(X)\n",
    "\n",
    "# transform both train & test sets\n",
    "X_scaled = scaler.transform(X)\n"
   ]
  },
  {
   "cell_type": "code",
   "execution_count": null,
   "id": "759f402d",
   "metadata": {},
   "outputs": [],
   "source": [
    "## Step 3: optimizing parameters with K-fold validation \n",
    "## I'm trying to maximize recall. As we saw earlier, this is the most relevant score for profit\n",
    "\n",
    "cross_validation_scores = []\n",
    "\n",
    "C_range = np.array([.0000001,.000001,.00001,.0001,.001,.01, .1, 1,10,100,1000,10000,100000])\n",
    "\n",
    "#Do some cross validation\n",
    "for c in C_range:\n",
    "    LR_model = LogisticRegression(C=c,random_state=1)\n",
    "    \n",
    "    # the cross validation score (mean of scores from all folds)\n",
    "    cv_score = np.mean(cross_val_score(LR_model, X_scaled, y, cv = 5, scoring='recall'))\n",
    "    \n",
    "    cross_validation_scores.append(cv_score)\n",
    "\n",
    "plt.figure()\n",
    "plt.plot(C_range, cross_validation_scores,label=\"Cross Validation Score\",marker='.')\n",
    "plt.legend()\n",
    "plt.xscale(\"log\")\n",
    "plt.xlabel('Regularization Parameter: C')\n",
    "plt.ylabel('Cross Validation Score')\n",
    "plt.grid()\n",
    "plt.show();"
   ]
  },
  {
   "cell_type": "markdown",
   "id": "2b06bb3d",
   "metadata": {},
   "source": [
    "Numbers above 1 seem to be the best for maximizing recall. However, it's not very good. "
   ]
  },
  {
   "cell_type": "code",
   "execution_count": null,
   "id": "9e99de43",
   "metadata": {},
   "outputs": [],
   "source": [
    "## Step 4: fit the model \n",
    "\n",
    "# 1. Instanitate model\n",
    "logreg = LogisticRegression(random_state=1, C=1)\n",
    "\n",
    "# fit to training sets\n",
    "logreg.fit(X_scaled, y)\n",
    "\n",
    "# make predictions for train and test sets\n",
    "y_pred = logreg.predict(X_scaled)\n",
    "\n"
   ]
  },
  {
   "cell_type": "code",
   "execution_count": null,
   "id": "4a1ef417",
   "metadata": {},
   "outputs": [],
   "source": [
    "# Look at confusion matrix for training set\n",
    "cm_val = confusion_matrix(y, y_pred)\n",
    "print(cm_val)\n",
    "\n",
    "# Use the nice display\n",
    "ConfusionMatrixDisplay(cm_val).plot()"
   ]
  },
  {
   "cell_type": "code",
   "execution_count": null,
   "id": "bd7f3de9",
   "metadata": {},
   "outputs": [],
   "source": [
    "# classification report on the training data\n",
    "print(classification_report(y, y_pred))"
   ]
  },
  {
   "cell_type": "markdown",
   "id": "38dff779",
   "metadata": {},
   "source": [
    "The recall of this model is bad. No need to calculate profits here. \n",
    "\n",
    "We have tried the scikit learn method, but we can also run the regression using the statsmodels api and setting the threshold differently, to reduce the number of false negatives. "
   ]
  },
  {
   "cell_type": "markdown",
   "id": "e1341c3d",
   "metadata": {},
   "source": [
    "### Using the statsmodel API"
   ]
  },
  {
   "cell_type": "code",
   "execution_count": null,
   "id": "e78dd3c3",
   "metadata": {},
   "outputs": [],
   "source": [
    "## New library imported\n",
    "import statsmodels.api as sm"
   ]
  },
  {
   "cell_type": "code",
   "execution_count": null,
   "id": "a6f24ce5",
   "metadata": {},
   "outputs": [],
   "source": [
    "# Instatiating\n",
    "logreg2= sm.Logit(y, X)\n",
    "\n",
    "# Fitting\n",
    "logreg2_results = logreg2.fit()\n",
    "\n",
    "# Priting the results\n",
    "logreg2_results.summary()"
   ]
  },
  {
   "cell_type": "markdown",
   "id": "14da3eaf",
   "metadata": {},
   "source": [
    "Not all variables are statistically relevant, but we will keep them all to try to capture the greatest amount of variance. "
   ]
  },
  {
   "cell_type": "markdown",
   "id": "83c9bbae",
   "metadata": {},
   "source": [
    "**Calculating odds ratios**"
   ]
  },
  {
   "cell_type": "code",
   "execution_count": null,
   "id": "1a4bdae3",
   "metadata": {},
   "outputs": [],
   "source": [
    "# defining the sigmoid curve manually\n",
    "def sigmoid_curve(x):\n",
    "    return 1 / (1 + np.exp(-x)) # exp(x) is the function to calculate e^x"
   ]
  },
  {
   "cell_type": "code",
   "execution_count": null,
   "id": "ee728445",
   "metadata": {},
   "outputs": [],
   "source": [
    "logreg2_results.params "
   ]
  },
  {
   "cell_type": "markdown",
   "id": "990ce35f",
   "metadata": {},
   "source": [
    "**Explaining some of the coeficcients**"
   ]
  },
  {
   "cell_type": "code",
   "execution_count": null,
   "id": "cd629085",
   "metadata": {},
   "outputs": [],
   "source": [
    "beta0 = logreg2_results.params[0]\n",
    "beta1 = logreg2_results.params[1]\n",
    "beta2 = logreg2_results.params[2]\n",
    "beta3 = logreg2_results.params[3]\n",
    "beta4 = logreg2_results.params[4]\n",
    "beta5 = logreg2_results.params[5]\n",
    "beta6 = logreg2_results.params[6]\n",
    "beta7 = logreg2_results.params[7]"
   ]
  },
  {
   "cell_type": "markdown",
   "id": "a423f14c",
   "metadata": {},
   "source": [
    "**For the constant**"
   ]
  },
  {
   "cell_type": "code",
   "execution_count": null,
   "id": "e89ab00d",
   "metadata": {},
   "outputs": [],
   "source": [
    "np.exp(beta0)"
   ]
  },
  {
   "cell_type": "markdown",
   "id": "054319e3",
   "metadata": {},
   "source": [
    "The odds of a transaction being bad are 0.06. Let's plug this into the sigmoid curve to get the probability. "
   ]
  },
  {
   "cell_type": "code",
   "execution_count": null,
   "id": "a8c5a924",
   "metadata": {},
   "outputs": [],
   "source": [
    "probability_of_badtransaction = sigmoid_curve(beta0)"
   ]
  },
  {
   "cell_type": "code",
   "execution_count": null,
   "id": "fe6828d5",
   "metadata": {},
   "outputs": [],
   "source": [
    "probability_of_badtransaction"
   ]
  },
  {
   "cell_type": "markdown",
   "id": "81a3e8f7",
   "metadata": {},
   "source": [
    "The probability of a bad transaction according to this model is 0.06. Yet we know that 18% of the transactions are bad. "
   ]
  },
  {
   "cell_type": "markdown",
   "id": "10185154",
   "metadata": {},
   "source": [
    "**For risk score 1**"
   ]
  },
  {
   "cell_type": "code",
   "execution_count": null,
   "id": "7916b73b",
   "metadata": {},
   "outputs": [],
   "source": [
    "np.exp(beta1)"
   ]
  },
  {
   "cell_type": "markdown",
   "id": "316f9449",
   "metadata": {},
   "source": [
    "If risk_score1 is 1, the odds increase to 3.19"
   ]
  },
  {
   "cell_type": "code",
   "execution_count": null,
   "id": "19083a74",
   "metadata": {},
   "outputs": [],
   "source": [
    "linear_combo=beta0+1*beta1"
   ]
  },
  {
   "cell_type": "code",
   "execution_count": null,
   "id": "623e4960",
   "metadata": {},
   "outputs": [],
   "source": [
    "probability_of_badtransaction = sigmoid_curve(linear_combo)"
   ]
  },
  {
   "cell_type": "code",
   "execution_count": null,
   "id": "da95415e",
   "metadata": {},
   "outputs": [],
   "source": [
    "probability_of_badtransaction"
   ]
  },
  {
   "cell_type": "markdown",
   "id": "ace5f747",
   "metadata": {},
   "source": [
    "By itself, if score1 is risky, the probability of being a bad transaction is 0.176. This is not an auspicious result. A lot of the variance is not being picked up by this score. "
   ]
  },
  {
   "cell_type": "markdown",
   "id": "31a33447",
   "metadata": {},
   "source": [
    "**For risk score 2**"
   ]
  },
  {
   "cell_type": "code",
   "execution_count": null,
   "id": "571e86d8",
   "metadata": {},
   "outputs": [],
   "source": [
    "np.exp(beta2)"
   ]
  },
  {
   "cell_type": "markdown",
   "id": "4c84aa62",
   "metadata": {},
   "source": [
    "If risk_score2 is 1, the odds increase to 0.32"
   ]
  },
  {
   "cell_type": "code",
   "execution_count": null,
   "id": "af86d497",
   "metadata": {},
   "outputs": [],
   "source": [
    "linear_combo=beta0+1*beta2\n",
    "probability_of_badtransaction = sigmoid_curve(linear_combo)\n",
    "probability_of_badtransaction"
   ]
  },
  {
   "cell_type": "markdown",
   "id": "ceea2fd9",
   "metadata": {},
   "source": [
    "By itself, if score2 is risky, the probability of being a bad transaction is 0.02. Hence, score 2 does not tell us much by itself."
   ]
  },
  {
   "cell_type": "markdown",
   "id": "7035b5d6",
   "metadata": {},
   "source": [
    "**For interaction term 1**"
   ]
  },
  {
   "cell_type": "code",
   "execution_count": null,
   "id": "56e759eb",
   "metadata": {},
   "outputs": [],
   "source": [
    "linear_combo=beta0+1*beta3\n",
    "probability_of_badtransaction = sigmoid_curve(linear_combo)\n",
    "probability_of_badtransaction"
   ]
  },
  {
   "cell_type": "markdown",
   "id": "0090a4d2",
   "metadata": {},
   "source": [
    "By itself, if the interaction term considers the client risky, the probability of having a bad transaction is 0.129"
   ]
  },
  {
   "cell_type": "markdown",
   "id": "ff86e94e",
   "metadata": {},
   "source": [
    "**For the average size transaction**"
   ]
  },
  {
   "cell_type": "code",
   "execution_count": null,
   "id": "9c32102b",
   "metadata": {},
   "outputs": [],
   "source": [
    "linear_combo=beta0+75*beta5\n",
    "probability_of_badtransaction = sigmoid_curve(linear_combo)\n",
    "probability_of_badtransaction"
   ]
  },
  {
   "cell_type": "markdown",
   "id": "c588156d",
   "metadata": {},
   "source": [
    "By itself, an average size transaction has a probability of 0.13 of being bad. "
   ]
  },
  {
   "cell_type": "code",
   "execution_count": null,
   "id": "129a35a8",
   "metadata": {},
   "outputs": [],
   "source": [
    "##Grading the whole model. \n",
    "linear_combo=beta0+1*beta1+1*beta2+1*beta3+1*beta4+75*beta5+1*beta6+1*beta7\n",
    "probability_of_badtransaction = sigmoid_curve(linear_combo)\n",
    "probability_of_badtransaction"
   ]
  },
  {
   "cell_type": "markdown",
   "id": "9677c660",
   "metadata": {},
   "source": [
    "For an average size transaction with all the risk markers on, the probability of it being bad is 0.32. Let see if we can fix the false negative problems by adjusting the threshold in the model towards this amount.  "
   ]
  },
  {
   "cell_type": "code",
   "execution_count": null,
   "id": "fb773612",
   "metadata": {},
   "outputs": [],
   "source": [
    "## Getting the probability predictions for each observation \n",
    "model_predictions_prob=logreg2_results.predict(X)"
   ]
  },
  {
   "cell_type": "code",
   "execution_count": null,
   "id": "ac37af0e",
   "metadata": {},
   "outputs": [],
   "source": [
    "## Setting the threshold at 0.5 and creating a binary predictions column\n",
    "model_predictions_binary = np.where(model_predictions_prob>0.5,1,0)"
   ]
  },
  {
   "cell_type": "code",
   "execution_count": null,
   "id": "cf266bd8",
   "metadata": {},
   "outputs": [],
   "source": [
    "model_predictions_binary.sum()"
   ]
  },
  {
   "cell_type": "markdown",
   "id": "81d3231a",
   "metadata": {},
   "source": [
    "As we can see the model only predicts 50 bad transactions, when we know there are 157.If we decrease the thresold, it will tend to capture some more of those false negatives.  "
   ]
  },
  {
   "cell_type": "code",
   "execution_count": null,
   "id": "f7bb7928",
   "metadata": {},
   "outputs": [],
   "source": [
    "## creating a for loop to optimize the recall \n",
    "threshold=[0.5, 0.45, 0.40, 0.35,0.30, 0.25, 0.20, 0.15]\n",
    "\n",
    "for i in threshold: \n",
    "    model_predictions_binary = np.where(model_predictions_prob>i,1,0)\n",
    "    cm_val3 = confusion_matrix(y, model_predictions_binary)\n",
    "    ConfusionMatrixDisplay(cm_val3).plot() \n",
    "    print(f'The used threshold is {i}')\n",
    "    print(classification_report(y, model_predictions_binary))"
   ]
  },
  {
   "cell_type": "markdown",
   "id": "be8988ea",
   "metadata": {},
   "source": [
    "Recall continues to increase as the threshold is lowered, though false positives are also going up. So losses are diminishing but so is revenue. Hence, the business side will have decide on this trade-off as false positives will alineate potential future customers. "
   ]
  },
  {
   "cell_type": "markdown",
   "id": "0c824697",
   "metadata": {},
   "source": [
    "#### Estimating profits for 0.3 and 0.15 thresholds"
   ]
  },
  {
   "cell_type": "markdown",
   "id": "b53535de",
   "metadata": {},
   "source": [
    "This recall score is lower than the interaction model. Let's see in terms of profit were it stands "
   ]
  },
  {
   "cell_type": "code",
   "execution_count": 775,
   "id": "85979112",
   "metadata": {},
   "outputs": [],
   "source": [
    "## incorporating the predictions in the dataframe for threshold 0.3\n",
    "model_predictions_binary = np.where(model_predictions_prob>0.3,1,0)\n",
    "df['predictions_log']=model_predictions_binary"
   ]
  },
  {
   "cell_type": "code",
   "execution_count": 776,
   "id": "6084d350",
   "metadata": {},
   "outputs": [
    {
     "name": "stdout",
     "output_type": "stream",
     "text": [
      "<class 'pandas.core.frame.DataFrame'>\n",
      "RangeIndex: 824 entries, 0 to 823\n",
      "Data columns (total 12 columns):\n",
      " #   Column           Non-Null Count  Dtype \n",
      "---  ------           --------------  ----- \n",
      " 0   score_1          824 non-null    object\n",
      " 1   risk_score1      824 non-null    int64 \n",
      " 2   score_2          824 non-null    object\n",
      " 3   risk_score2      824 non-null    int64 \n",
      " 4   interaction_1    824 non-null    int64 \n",
      " 5   interaction_2    824 non-null    int64 \n",
      " 6   transaction      824 non-null    int64 \n",
      " 7   bad_transaction  824 non-null    int64 \n",
      " 8   state            823 non-null    object\n",
      " 9   population       824 non-null    int64 \n",
      " 10  sc_control       824 non-null    int64 \n",
      " 11  predictions_log  824 non-null    int32 \n",
      "dtypes: int32(1), int64(8), object(3)\n",
      "memory usage: 74.2+ KB\n"
     ]
    }
   ],
   "source": [
    "df.info()"
   ]
  },
  {
   "cell_type": "code",
   "execution_count": 778,
   "id": "e5e5807d",
   "metadata": {},
   "outputs": [
    {
     "data": {
      "text/plain": [
       "143"
      ]
     },
     "execution_count": 778,
     "metadata": {},
     "output_type": "execute_result"
    }
   ],
   "source": [
    "df.predictions_log.sum()"
   ]
  },
  {
   "cell_type": "code",
   "execution_count": 779,
   "id": "5959ca53",
   "metadata": {},
   "outputs": [],
   "source": [
    "tndf4=df[(df['predictions_log']==0) & (df['bad_transaction']==0)]"
   ]
  },
  {
   "cell_type": "code",
   "execution_count": 780,
   "id": "d3f24ea0",
   "metadata": {},
   "outputs": [
    {
     "data": {
      "text/plain": [
       "(588, 12)"
      ]
     },
     "execution_count": 780,
     "metadata": {},
     "output_type": "execute_result"
    }
   ],
   "source": [
    "tndf4.shape"
   ]
  },
  {
   "cell_type": "code",
   "execution_count": 781,
   "id": "cdf970db",
   "metadata": {},
   "outputs": [],
   "source": [
    "## Calculating the fn dataframe\n",
    "fndf4=df[(df['predictions_log']==0) & (df['bad_transaction']==1)]"
   ]
  },
  {
   "cell_type": "code",
   "execution_count": 782,
   "id": "81461a74",
   "metadata": {},
   "outputs": [],
   "source": [
    "## Estimating revenue\n",
    "Revenue4=0.05*(tndf4['transaction'].sum())"
   ]
  },
  {
   "cell_type": "code",
   "execution_count": 783,
   "id": "dac0b37c",
   "metadata": {},
   "outputs": [
    {
     "data": {
      "text/plain": [
       "2147.0"
      ]
     },
     "execution_count": 783,
     "metadata": {},
     "output_type": "execute_result"
    }
   ],
   "source": [
    "Revenue4"
   ]
  },
  {
   "cell_type": "code",
   "execution_count": 784,
   "id": "7e149f49",
   "metadata": {},
   "outputs": [],
   "source": [
    "loss4=(fndf4['transaction'].sum())"
   ]
  },
  {
   "cell_type": "code",
   "execution_count": 785,
   "id": "8046d283",
   "metadata": {},
   "outputs": [
    {
     "data": {
      "text/plain": [
       "6788"
      ]
     },
     "execution_count": 785,
     "metadata": {},
     "output_type": "execute_result"
    }
   ],
   "source": [
    "loss4"
   ]
  },
  {
   "cell_type": "code",
   "execution_count": 786,
   "id": "716848a3",
   "metadata": {},
   "outputs": [],
   "source": [
    "Profit4=Revenue4-loss4"
   ]
  },
  {
   "cell_type": "code",
   "execution_count": 787,
   "id": "50a9321e",
   "metadata": {},
   "outputs": [
    {
     "data": {
      "text/plain": [
       "-4641.0"
      ]
     },
     "execution_count": 787,
     "metadata": {},
     "output_type": "execute_result"
    }
   ],
   "source": [
    "Profit4"
   ]
  },
  {
   "cell_type": "markdown",
   "id": "dafd3e18",
   "metadata": {},
   "source": [
    "The loss using a threshold of 0.3 is still higher than the model for intearction term 1. "
   ]
  },
  {
   "cell_type": "code",
   "execution_count": 788,
   "id": "ab4dd8f7",
   "metadata": {},
   "outputs": [],
   "source": [
    "## incorporating the predictions in the dataframe for threshold 0.15\n",
    "model_predictions_binary = np.where(model_predictions_prob>0.15,1,0)\n",
    "df['predictions']=model_predictions_binary"
   ]
  },
  {
   "cell_type": "code",
   "execution_count": 789,
   "id": "d54f6f17",
   "metadata": {},
   "outputs": [
    {
     "name": "stdout",
     "output_type": "stream",
     "text": [
      "<class 'pandas.core.frame.DataFrame'>\n",
      "RangeIndex: 824 entries, 0 to 823\n",
      "Data columns (total 13 columns):\n",
      " #   Column           Non-Null Count  Dtype \n",
      "---  ------           --------------  ----- \n",
      " 0   score_1          824 non-null    object\n",
      " 1   risk_score1      824 non-null    int64 \n",
      " 2   score_2          824 non-null    object\n",
      " 3   risk_score2      824 non-null    int64 \n",
      " 4   interaction_1    824 non-null    int64 \n",
      " 5   interaction_2    824 non-null    int64 \n",
      " 6   transaction      824 non-null    int64 \n",
      " 7   bad_transaction  824 non-null    int64 \n",
      " 8   state            823 non-null    object\n",
      " 9   population       824 non-null    int64 \n",
      " 10  sc_control       824 non-null    int64 \n",
      " 11  predictions_log  824 non-null    int32 \n",
      " 12  predictions      824 non-null    int32 \n",
      "dtypes: int32(2), int64(8), object(3)\n",
      "memory usage: 77.4+ KB\n"
     ]
    }
   ],
   "source": [
    "df.info()"
   ]
  },
  {
   "cell_type": "code",
   "execution_count": 790,
   "id": "c0eba0f6",
   "metadata": {},
   "outputs": [
    {
     "data": {
      "text/plain": [
       "325"
      ]
     },
     "execution_count": 790,
     "metadata": {},
     "output_type": "execute_result"
    }
   ],
   "source": [
    "df.predictions.sum()"
   ]
  },
  {
   "cell_type": "code",
   "execution_count": 791,
   "id": "4e343c08",
   "metadata": {},
   "outputs": [],
   "source": [
    "tndf4=df[(df['predictions']==0) & (df['bad_transaction']==0)]"
   ]
  },
  {
   "cell_type": "code",
   "execution_count": 792,
   "id": "3355a766",
   "metadata": {},
   "outputs": [
    {
     "data": {
      "text/plain": [
       "(445, 13)"
      ]
     },
     "execution_count": 792,
     "metadata": {},
     "output_type": "execute_result"
    }
   ],
   "source": [
    "tndf4.shape"
   ]
  },
  {
   "cell_type": "code",
   "execution_count": 793,
   "id": "9582e157",
   "metadata": {},
   "outputs": [],
   "source": [
    "## Calculating the fn dataframe\n",
    "fndf4=df[(df['predictions']==0) & (df['bad_transaction']==1)]"
   ]
  },
  {
   "cell_type": "code",
   "execution_count": 794,
   "id": "c29b6d2d",
   "metadata": {},
   "outputs": [
    {
     "data": {
      "text/plain": [
       "(54, 13)"
      ]
     },
     "execution_count": 794,
     "metadata": {},
     "output_type": "execute_result"
    }
   ],
   "source": [
    "fndf4.shape"
   ]
  },
  {
   "cell_type": "markdown",
   "id": "b9c10535",
   "metadata": {},
   "source": [
    "This model has substantially reduced the true negatives and the false negatives. Let's see how it plays out in terms of profits. "
   ]
  },
  {
   "cell_type": "code",
   "execution_count": 795,
   "id": "71207e16",
   "metadata": {},
   "outputs": [],
   "source": [
    "## Estimating revenue\n",
    "Revenue4=0.05*(tndf4['transaction'].sum())"
   ]
  },
  {
   "cell_type": "code",
   "execution_count": 796,
   "id": "e46f962b",
   "metadata": {},
   "outputs": [
    {
     "data": {
      "text/plain": [
       "1556.3000000000002"
      ]
     },
     "execution_count": 796,
     "metadata": {},
     "output_type": "execute_result"
    }
   ],
   "source": [
    "Revenue4"
   ]
  },
  {
   "cell_type": "code",
   "execution_count": 797,
   "id": "d2561320",
   "metadata": {},
   "outputs": [],
   "source": [
    "loss4=(fndf4['transaction'].sum())"
   ]
  },
  {
   "cell_type": "code",
   "execution_count": 798,
   "id": "34bcb76b",
   "metadata": {},
   "outputs": [
    {
     "data": {
      "text/plain": [
       "3956"
      ]
     },
     "execution_count": 798,
     "metadata": {},
     "output_type": "execute_result"
    }
   ],
   "source": [
    "loss4"
   ]
  },
  {
   "cell_type": "code",
   "execution_count": 799,
   "id": "7f811f76",
   "metadata": {},
   "outputs": [],
   "source": [
    "Profit4=Revenue4-loss4"
   ]
  },
  {
   "cell_type": "code",
   "execution_count": 800,
   "id": "b5b2a7e5",
   "metadata": {},
   "outputs": [
    {
     "data": {
      "text/plain": [
       "-2399.7"
      ]
     },
     "execution_count": 800,
     "metadata": {},
     "output_type": "execute_result"
    }
   ],
   "source": [
    "Profit4"
   ]
  },
  {
   "cell_type": "markdown",
   "id": "0983e34a",
   "metadata": {},
   "source": [
    "So this model does a better job of minimizing losses. However, the business development team needs to weigh in because customer lifetime value for the upset customers in the false positives will likely fall. This is not an easy trade-off. "
   ]
  },
  {
   "cell_type": "markdown",
   "id": "231bc1be",
   "metadata": {},
   "source": [
    "## Model 5: KNN"
   ]
  },
  {
   "cell_type": "code",
   "execution_count": 801,
   "id": "78272c68",
   "metadata": {},
   "outputs": [],
   "source": [
    "from sklearn.neighbors import KNeighborsClassifier"
   ]
  },
  {
   "cell_type": "code",
   "execution_count": 802,
   "id": "8bf44e9b",
   "metadata": {},
   "outputs": [
    {
     "data": {
      "image/png": "[encoded data removed]",
      "text/plain": [
       "<Figure size 432x288 with 1 Axes>"
      ]
     },
     "metadata": {
      "needs_background": "light"
     },
     "output_type": "display_data"
    }
   ],
   "source": [
    "## K-folds cross validation for the Number of Neighbors parameter\n",
    "\n",
    "# Define our list of k values to try out. We'll try 15 values. The dataset is small. \n",
    "k_values = list(range(1, 15,))\n",
    "\n",
    "# Create a list to hold our cross-validation scores\n",
    "cv_scores = []\n",
    "\n",
    "for k in k_values:\n",
    "    knn = KNeighborsClassifier(n_neighbors=k)\n",
    "    scores = cross_val_score(knn, X_scaled, y, scoring='recall', cv=5)\n",
    "    cv_scores.append(np.mean(scores))\n",
    "    \n",
    "plt.figure()\n",
    "plt.plot(k_values, cv_scores, label=\"mean score\")\n",
    "plt.xlabel('K - Number of neighbors')\n",
    "plt.ylabel('Recall')\n",
    "plt.title(\"Recall vs number of neighbors\")\n",
    "plt.show()    "
   ]
  },
  {
   "cell_type": "markdown",
   "id": "7ee0bd29",
   "metadata": {},
   "source": [
    "The highest recall is achieved at 5 neighbors. We'll run the model with this parameter. "
   ]
  },
  {
   "cell_type": "code",
   "execution_count": 803,
   "id": "04f269ec",
   "metadata": {},
   "outputs": [
    {
     "data": {
      "text/plain": [
       "KNeighborsClassifier()"
      ]
     },
     "execution_count": 803,
     "metadata": {},
     "output_type": "execute_result"
    }
   ],
   "source": [
    "knn = KNeighborsClassifier(n_neighbors=5)\n",
    "knn.fit(X_scaled, y)"
   ]
  },
  {
   "cell_type": "code",
   "execution_count": 804,
   "id": "76ac6e0d",
   "metadata": {},
   "outputs": [],
   "source": [
    "## generating predictions\n",
    "y_pred_knn = knn.predict(X_scaled)"
   ]
  },
  {
   "cell_type": "code",
   "execution_count": 805,
   "id": "a2dd6199",
   "metadata": {},
   "outputs": [],
   "source": [
    "## including them in the df\n",
    "df.loc[:,'pred_prob_knn']=y_pred_knn"
   ]
  },
  {
   "cell_type": "code",
   "execution_count": 573,
   "id": "fec4e98a",
   "metadata": {},
   "outputs": [
    {
     "name": "stdout",
     "output_type": "stream",
     "text": [
      "<class 'pandas.core.frame.DataFrame'>\n",
      "RangeIndex: 824 entries, 0 to 823\n",
      "Data columns (total 14 columns):\n",
      " #   Column           Non-Null Count  Dtype \n",
      "---  ------           --------------  ----- \n",
      " 0   score_1          824 non-null    object\n",
      " 1   risk_score1      824 non-null    int64 \n",
      " 2   score_2          824 non-null    object\n",
      " 3   risk_score2      824 non-null    int64 \n",
      " 4   interaction_1    824 non-null    int64 \n",
      " 5   interaction_2    824 non-null    int64 \n",
      " 6   risk_quant       824 non-null    int64 \n",
      " 7   transaction      824 non-null    int64 \n",
      " 8   bad_transaction  824 non-null    int64 \n",
      " 9   state            823 non-null    object\n",
      " 10  population       824 non-null    int64 \n",
      " 11  sc_control       824 non-null    int64 \n",
      " 12  predictions      824 non-null    int32 \n",
      " 13  pred_prob_knn    824 non-null    int64 \n",
      "dtypes: int32(1), int64(10), object(3)\n",
      "memory usage: 87.0+ KB\n"
     ]
    }
   ],
   "source": [
    "df.info()"
   ]
  },
  {
   "cell_type": "code",
   "execution_count": 806,
   "id": "2562afd8",
   "metadata": {},
   "outputs": [
    {
     "data": {
      "image/png": "[encoded data removed]",
      "text/plain": [
       "<Figure size 432x288 with 2 Axes>"
      ]
     },
     "metadata": {
      "needs_background": "light"
     },
     "output_type": "display_data"
    }
   ],
   "source": [
    "# generando la matriz de confusion \n",
    "cf_matrix = confusion_matrix(df.bad_transaction, df.pred_prob_knn)\n",
    "\n",
    "# presentando la matriz\n",
    "ConfusionMatrixDisplay(cf_matrix).plot(cmap='Purples')\n",
    "plt.show()"
   ]
  },
  {
   "cell_type": "markdown",
   "id": "a6491c47",
   "metadata": {},
   "source": [
    "The recall is inferior to previous alternatives."
   ]
  },
  {
   "cell_type": "code",
   "execution_count": 807,
   "id": "1715f2f5",
   "metadata": {},
   "outputs": [],
   "source": [
    "tndf5=df[(df['pred_prob_knn']==0) & (df['bad_transaction']==0)]"
   ]
  },
  {
   "cell_type": "code",
   "execution_count": 808,
   "id": "f58b1ffa",
   "metadata": {},
   "outputs": [
    {
     "data": {
      "text/plain": [
       "(655, 14)"
      ]
     },
     "execution_count": 808,
     "metadata": {},
     "output_type": "execute_result"
    }
   ],
   "source": [
    "tndf5.shape"
   ]
  },
  {
   "cell_type": "code",
   "execution_count": 809,
   "id": "6c3ca136",
   "metadata": {},
   "outputs": [],
   "source": [
    "fndf5=df[(df['pred_prob_knn']==0) & (df['bad_transaction']==1)]"
   ]
  },
  {
   "cell_type": "code",
   "execution_count": 810,
   "id": "09f31e75",
   "metadata": {},
   "outputs": [
    {
     "data": {
      "text/plain": [
       "(114, 14)"
      ]
     },
     "execution_count": 810,
     "metadata": {},
     "output_type": "execute_result"
    }
   ],
   "source": [
    "fndf5.shape"
   ]
  },
  {
   "cell_type": "code",
   "execution_count": 579,
   "id": "77fee061",
   "metadata": {},
   "outputs": [],
   "source": [
    "Revenue5=0.05*(tndf5['transaction'].sum())"
   ]
  },
  {
   "cell_type": "code",
   "execution_count": 811,
   "id": "8acdd8bb",
   "metadata": {},
   "outputs": [
    {
     "data": {
      "text/plain": [
       "2423.25"
      ]
     },
     "execution_count": 811,
     "metadata": {},
     "output_type": "execute_result"
    }
   ],
   "source": [
    "Revenue5"
   ]
  },
  {
   "cell_type": "code",
   "execution_count": 812,
   "id": "463acf54",
   "metadata": {},
   "outputs": [],
   "source": [
    "loss5=(fndf5['transaction'].sum())"
   ]
  },
  {
   "cell_type": "code",
   "execution_count": 813,
   "id": "40451169",
   "metadata": {},
   "outputs": [
    {
     "data": {
      "text/plain": [
       "8713"
      ]
     },
     "execution_count": 813,
     "metadata": {},
     "output_type": "execute_result"
    }
   ],
   "source": [
    "loss5"
   ]
  },
  {
   "cell_type": "code",
   "execution_count": 814,
   "id": "ada4e8e1",
   "metadata": {},
   "outputs": [],
   "source": [
    "Profit5=Revenue5-loss5"
   ]
  },
  {
   "cell_type": "code",
   "execution_count": 815,
   "id": "bcaac576",
   "metadata": {},
   "outputs": [
    {
     "data": {
      "text/plain": [
       "-6289.75"
      ]
     },
     "execution_count": 815,
     "metadata": {},
     "output_type": "execute_result"
    }
   ],
   "source": [
    "Profit5"
   ]
  },
  {
   "cell_type": "markdown",
   "id": "0a44317e",
   "metadata": {},
   "source": [
    "This model is inferior to the previous ones. "
   ]
  },
  {
   "cell_type": "markdown",
   "id": "419b2972",
   "metadata": {},
   "source": [
    "### An alternative KNN"
   ]
  },
  {
   "cell_type": "markdown",
   "id": "47902c36",
   "metadata": {},
   "source": [
    "What would happened if we used unscaled data for X instead? "
   ]
  },
  {
   "cell_type": "code",
   "execution_count": 820,
   "id": "98423ce5",
   "metadata": {},
   "outputs": [
    {
     "data": {
      "text/plain": [
       "KNeighborsClassifier()"
      ]
     },
     "execution_count": 820,
     "metadata": {},
     "output_type": "execute_result"
    }
   ],
   "source": [
    "knn2 = KNeighborsClassifier(n_neighbors=5)\n",
    "knn2.fit(X, y)"
   ]
  },
  {
   "cell_type": "code",
   "execution_count": 821,
   "id": "e5ad8c1a",
   "metadata": {},
   "outputs": [],
   "source": [
    "## generating predictions\n",
    "y_pred_knn2 = knn.predict(X)"
   ]
  },
  {
   "cell_type": "code",
   "execution_count": 822,
   "id": "1ea4b6d5",
   "metadata": {},
   "outputs": [],
   "source": [
    "## including them in the df\n",
    "df.loc[:,'pred_prob_knn2']=y_pred_knn2"
   ]
  },
  {
   "cell_type": "code",
   "execution_count": 823,
   "id": "73a689eb",
   "metadata": {},
   "outputs": [
    {
     "data": {
      "image/png": "[encoded data removed]",
      "text/plain": [
       "<Figure size 432x288 with 2 Axes>"
      ]
     },
     "metadata": {
      "needs_background": "light"
     },
     "output_type": "display_data"
    }
   ],
   "source": [
    "# generando la matriz de confusion \n",
    "cf_matrix = confusion_matrix(df.bad_transaction, df.pred_prob_knn2)\n",
    "\n",
    "# presentando la matriz\n",
    "ConfusionMatrixDisplay(cf_matrix).plot(cmap='Purples')\n",
    "plt.show()"
   ]
  },
  {
   "cell_type": "markdown",
   "id": "5383839a",
   "metadata": {},
   "source": [
    "Not much happened. It is infact, worse. Only 14 true positives identified. "
   ]
  },
  {
   "cell_type": "markdown",
   "id": "8868fc80",
   "metadata": {},
   "source": [
    "## Conclusion"
   ]
  },
  {
   "cell_type": "markdown",
   "id": "fee9e10a",
   "metadata": {},
   "source": [
    "- The company is losing money and needs to introduce a risk scoring system of some sorts. \n",
    "- In terms of practicality, since the company is already paying for but not using Score 1 or Score 2, it an begin filtering clients using an interaction term of the two. I have used the more stringent definition of risk. Only the combinations of (excellent, excellent) and (good,excellent) in both permutations are considered 0. The rest are considered 1 (i.e risky). \n",
    "- When this simple model is used, the loss dimishes from 9400 dollars to 3607. This can be implemented right away so the company loses less money. \n",
    "- There are not enough observations yet to conduct a proper ML analysis with train and test sets. \n",
    "- Nevertheless, the logistic regression model does provide a smaller loss when the threshold for positivity is lowered to 0.15. This is indicative of insuficient data, not just in quantity but perhaps also in additional features to explain the target. \n",
    "- Applying the logistic model right now has a commercial trade-off: smaller losses versus more false positives from potentially angry recurring customers. This could affect customer lifetime value in the future and the company's reputation.  "
   ]
  },
  {
   "cell_type": "code",
   "execution_count": null,
   "id": "ba24c25e",
   "metadata": {},
   "outputs": [],
   "source": []
  }
 ],
 "metadata": {
  "kernelspec": {
   "display_name": "Python 3",
   "language": "python",
   "name": "python3"
  },
  "language_info": {
   "codemirror_mode": {
    "name": "ipython",
    "version": 3
   },
   "file_extension": ".py",
   "mimetype": "text/x-python",
   "name": "python",
   "nbconvert_exporter": "python",
   "pygments_lexer": "ipython3",
   "version": "3.8.8"
  },
  "toc": {
   "base_numbering": 1,
   "nav_menu": {},
   "number_sections": true,
   "sideBar": true,
   "skip_h1_title": true,
   "title_cell": "Table of Contents",
   "title_sidebar": "Contents",
   "toc_cell": false,
   "toc_position": {
    "height": "calc(100% - 180px)",
    "left": "10px",
    "top": "150px",
    "width": "341.333px"
   },
   "toc_section_display": true,
   "toc_window_display": true
  },
  "varInspector": {
   "cols": {
    "lenName": 16,
    "lenType": 16,
    "lenVar": 40
   },
   "kernels_config": {
    "python": {
     "delete_cmd_postfix": "",
     "delete_cmd_prefix": "del ",
     "library": "var_list.py",
     "varRefreshCmd": "print(var_dic_list())"
    },
    "r": {
     "delete_cmd_postfix": ") ",
     "delete_cmd_prefix": "rm(",
     "library": "var_list.r",
     "varRefreshCmd": "cat(var_dic_list()) "
    }
   },
   "types_to_exclude": [
    "module",
    "function",
    "builtin_function_or_method",
    "instance",
    "_Feature"
   ],
   "window_display": false
  }
 },
 "nbformat": 4,
 "nbformat_minor": 5
}
