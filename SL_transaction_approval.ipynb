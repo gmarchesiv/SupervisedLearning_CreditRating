{
 "cells": [
  {
   "cell_type": "markdown",
   "id": "e80707eb",
   "metadata": {
    "slideshow": {
     "slide_type": "slide"
    }
   },
   "source": [
    "# Supervised learning applied to transaction approval\n",
    "\n",
    "by Giancarlo Marchesi"
   ]
  },
  {
   "cell_type": "markdown",
   "id": "db525a3c",
   "metadata": {
    "slideshow": {
     "slide_type": "slide"
    }
   },
   "source": [
    "This notebook contains the analysis for a series of credit scoring models for a small direct account payment gateway company.\n",
    "\n",
    "A payment gateway is a merchant service provided by an e-commerce application company that authorizes credit card or direct payments processing for e-businesses, online retailers, bricks and clicks, or traditional brick and mortar. This particular gateway company authorizes direct payments to merchants from customers' bank accounts. The gateway has no online connection to banks, so it must rely on its own scoring models to determine which customers to approve. Bad transactions occur when customers do not have funds in their accounts at the time. Merchants get paid immediately, so default risk stays with the gateway company.\n",
    "\n",
    "The company currently has access to scores from two credit rating providers, yet still uses a manual process to approve the transactions. Unless they get specific confirmation by phone from the customer's bank that the customer's account is empty, the transaction is approved. Hence, they are not leveraging the data from the providers. Bad (insolvent) transactions are frequent. The client wants to know how to use the data they have effectively to have a better risk model and be more profitable. The sector in which the company operates is risky. The commerces do not take credit cards, only direct payments. Commerces that use these methods generally attract riskier clients.  "
   ]
  },
  {
   "cell_type": "markdown",
   "id": "112cbacd",
   "metadata": {
    "slideshow": {
     "slide_type": "slide"
    }
   },
   "source": [
    "## Objective"
   ]
  },
  {
   "cell_type": "markdown",
   "id": "987ff9c5",
   "metadata": {
    "slideshow": {
     "slide_type": "-"
    }
   },
   "source": [
    "The objective of the project is to help the company maximize profits by approving the most amount of good transactions and limiting the bad ones. The business loses 100% of bad transactions and charges 5% of good transactions.\n",
    "\n",
    "The analysis presents alternative credit scoring models using supervised machine learning methods that combine these scores and other available data. The data is from a private direct payment processing company. Only features pertaining to the analysis are shown in the dataset. \n",
    "\n",
    "**Model alternatives:**\n",
    "- Use only independent `score 1` as is\n",
    "- Use only independend `score 2` as is\n",
    "- Use an interaction of scores 1 and 2 (two versions)\n",
    "- Use a logistic regression model \n",
    "- Use a KNN model  \n",
    "\n",
    "The working hypothesis is that both ML models will provide additional insight to the independent scores. "
   ]
  },
  {
   "cell_type": "markdown",
   "id": "dcca47d6",
   "metadata": {
    "slideshow": {
     "slide_type": "skip"
    }
   },
   "source": [
    "## Exploring the data"
   ]
  },
  {
   "cell_type": "code",
   "execution_count": 1,
   "id": "ad8c0342",
   "metadata": {
    "slideshow": {
     "slide_type": "skip"
    }
   },
   "outputs": [],
   "source": [
    "import numpy as np\n",
    "import pandas as pd\n",
    "import matplotlib.pyplot as plt\n",
    "import statsmodels.api as sm\n",
    "import warnings\n",
    "warnings.filterwarnings('ignore')"
   ]
  },
  {
   "cell_type": "code",
   "execution_count": 2,
   "id": "48114034",
   "metadata": {
    "slideshow": {
     "slide_type": "skip"
    }
   },
   "outputs": [],
   "source": [
    "df=pd.read_csv('data_final_2.csv', sep=\";\")"
   ]
  },
  {
   "cell_type": "code",
   "execution_count": 3,
   "id": "7c46973d",
   "metadata": {
    "slideshow": {
     "slide_type": "skip"
    }
   },
   "outputs": [
    {
     "data": {
      "text/html": [
       "<div>\n",
       "<style scoped>\n",
       "    .dataframe tbody tr th:only-of-type {\n",
       "        vertical-align: middle;\n",
       "    }\n",
       "\n",
       "    .dataframe tbody tr th {\n",
       "        vertical-align: top;\n",
       "    }\n",
       "\n",
       "    .dataframe thead th {\n",
       "        text-align: right;\n",
       "    }\n",
       "</style>\n",
       "<table border=\"1\" class=\"dataframe\">\n",
       "  <thead>\n",
       "    <tr style=\"text-align: right;\">\n",
       "      <th></th>\n",
       "      <th>score_1</th>\n",
       "      <th>risk_score1</th>\n",
       "      <th>score_2</th>\n",
       "      <th>risk_score2</th>\n",
       "      <th>interaction_1</th>\n",
       "      <th>interaction_2</th>\n",
       "      <th>transaction</th>\n",
       "      <th>bad_transaction</th>\n",
       "      <th>state</th>\n",
       "      <th>population</th>\n",
       "      <th>sc_control</th>\n",
       "    </tr>\n",
       "  </thead>\n",
       "  <tbody>\n",
       "    <tr>\n",
       "      <th>0</th>\n",
       "      <td>excellent</td>\n",
       "      <td>0</td>\n",
       "      <td>medium</td>\n",
       "      <td>1</td>\n",
       "      <td>0</td>\n",
       "      <td>1</td>\n",
       "      <td>79</td>\n",
       "      <td>0</td>\n",
       "      <td>NV</td>\n",
       "      <td>0</td>\n",
       "      <td>0</td>\n",
       "    </tr>\n",
       "    <tr>\n",
       "      <th>1</th>\n",
       "      <td>excellent</td>\n",
       "      <td>0</td>\n",
       "      <td>excellent</td>\n",
       "      <td>0</td>\n",
       "      <td>0</td>\n",
       "      <td>0</td>\n",
       "      <td>99</td>\n",
       "      <td>0</td>\n",
       "      <td>MD</td>\n",
       "      <td>0</td>\n",
       "      <td>0</td>\n",
       "    </tr>\n",
       "    <tr>\n",
       "      <th>2</th>\n",
       "      <td>excellent</td>\n",
       "      <td>0</td>\n",
       "      <td>medium</td>\n",
       "      <td>1</td>\n",
       "      <td>0</td>\n",
       "      <td>1</td>\n",
       "      <td>50</td>\n",
       "      <td>0</td>\n",
       "      <td>OH</td>\n",
       "      <td>0</td>\n",
       "      <td>0</td>\n",
       "    </tr>\n",
       "    <tr>\n",
       "      <th>3</th>\n",
       "      <td>excellent</td>\n",
       "      <td>0</td>\n",
       "      <td>excellent</td>\n",
       "      <td>0</td>\n",
       "      <td>0</td>\n",
       "      <td>0</td>\n",
       "      <td>79</td>\n",
       "      <td>0</td>\n",
       "      <td>FL</td>\n",
       "      <td>1</td>\n",
       "      <td>0</td>\n",
       "    </tr>\n",
       "    <tr>\n",
       "      <th>4</th>\n",
       "      <td>good</td>\n",
       "      <td>0</td>\n",
       "      <td>excellent</td>\n",
       "      <td>0</td>\n",
       "      <td>0</td>\n",
       "      <td>0</td>\n",
       "      <td>99</td>\n",
       "      <td>0</td>\n",
       "      <td>IN</td>\n",
       "      <td>0</td>\n",
       "      <td>0</td>\n",
       "    </tr>\n",
       "  </tbody>\n",
       "</table>\n",
       "</div>"
      ],
      "text/plain": [
       "     score_1  risk_score1    score_2  risk_score2  interaction_1  \\\n",
       "0  excellent            0     medium            1              0   \n",
       "1  excellent            0  excellent            0              0   \n",
       "2  excellent            0     medium            1              0   \n",
       "3  excellent            0  excellent            0              0   \n",
       "4       good            0  excellent            0              0   \n",
       "\n",
       "   interaction_2  transaction  bad_transaction state  population  sc_control  \n",
       "0              1           79                0    NV           0           0  \n",
       "1              0           99                0    MD           0           0  \n",
       "2              1           50                0    OH           0           0  \n",
       "3              0           79                0    FL           1           0  \n",
       "4              0           99                0    IN           0           0  "
      ]
     },
     "execution_count": 3,
     "metadata": {},
     "output_type": "execute_result"
    }
   ],
   "source": [
    "df.head()"
   ]
  },
  {
   "cell_type": "code",
   "execution_count": 4,
   "id": "d9f4b98f",
   "metadata": {
    "slideshow": {
     "slide_type": "skip"
    }
   },
   "outputs": [
    {
     "name": "stdout",
     "output_type": "stream",
     "text": [
      "<class 'pandas.core.frame.DataFrame'>\n",
      "RangeIndex: 824 entries, 0 to 823\n",
      "Data columns (total 11 columns):\n",
      " #   Column           Non-Null Count  Dtype \n",
      "---  ------           --------------  ----- \n",
      " 0   score_1          824 non-null    object\n",
      " 1   risk_score1      824 non-null    int64 \n",
      " 2   score_2          824 non-null    object\n",
      " 3   risk_score2      824 non-null    int64 \n",
      " 4   interaction_1    824 non-null    int64 \n",
      " 5   interaction_2    824 non-null    int64 \n",
      " 6   transaction      824 non-null    int64 \n",
      " 7   bad_transaction  824 non-null    int64 \n",
      " 8   state            823 non-null    object\n",
      " 9   population       824 non-null    int64 \n",
      " 10  sc_control       824 non-null    int64 \n",
      "dtypes: int64(8), object(3)\n",
      "memory usage: 70.9+ KB\n"
     ]
    }
   ],
   "source": [
    "df.info()"
   ]
  },
  {
   "cell_type": "code",
   "execution_count": 5,
   "id": "6f20faf9",
   "metadata": {
    "slideshow": {
     "slide_type": "skip"
    }
   },
   "outputs": [
    {
     "data": {
      "text/plain": [
       "(824, 11)"
      ]
     },
     "execution_count": 5,
     "metadata": {},
     "output_type": "execute_result"
    }
   ],
   "source": [
    "df.shape"
   ]
  },
  {
   "cell_type": "markdown",
   "id": "d19a5d6f",
   "metadata": {
    "slideshow": {
     "slide_type": "skip"
    }
   },
   "source": [
    "The dataset contains 824 observations and 11 features. "
   ]
  },
  {
   "cell_type": "markdown",
   "id": "b89b8d23",
   "metadata": {
    "slideshow": {
     "slide_type": "skip"
    }
   },
   "source": [
    "### Feature description"
   ]
  },
  {
   "cell_type": "markdown",
   "id": "4b34325c",
   "metadata": {
    "slideshow": {
     "slide_type": "skip"
    }
   },
   "source": [
    "- `score_1`: client risk category depending on score from provider 1. Five possible categories: excellent, good, medium, bad  and no data (nd)\n",
    "- `risk_score1`: binary variable according to risk profile from provider 1. Excellent and good are assigned a score of 0. The rest of the categories get a score of 1. \n",
    "- `score_2`:  client risk category depending on score from provider 2. Five possible categories: excellent, good, medium, bad  and no data (nd)\n",
    "- `risk_score2`: binary variable according to risk profile from provider 2. Excellent and good are assigned a score of 0. The rest of the categories get a score of 1. \n",
    "- `interaction_1`: interaction term between score_1 and score_2. If both have a score of 1, the variable will be 1, i.e a risky client. In other cases, the variable will be 0.  Risk is considered as combinations of medium, bad or no data. \n",
    "- `interaction_2`: its a more stringent definition of risk. Only the combinations of excellent, excellent and good,excellent in both permutations are considered 0. The rest are considered 1 (i.e risky). \n",
    "- `transaction`: es is the dollar amount of the transaction\n",
    "- `bad_transaction`: binary variable where 1 corresponds to a bounced transaction (bad electronic check) and 0 is a succesful transaction (i.e the customer had the necessary funds). \n",
    "- `state`: two letters corresponding to the state in the United States\n",
    "- `population`: binary variable where 1 is assigned to the most populous states: California, Texas, Florida, New York y Pennsylvania \n",
    "- `sc_control`: binary variable where 1 is assigned to the state of South Carolina. It has a disproportionate amount of transactions in the dataset for the size of its population. \n"
   ]
  },
  {
   "cell_type": "markdown",
   "id": "167f0a6a",
   "metadata": {
    "slideshow": {
     "slide_type": "slide"
    }
   },
   "source": [
    "## Exploring the data"
   ]
  },
  {
   "cell_type": "code",
   "execution_count": 6,
   "id": "a27fac2f",
   "metadata": {
    "slideshow": {
     "slide_type": "skip"
    }
   },
   "outputs": [
    {
     "data": {
      "text/plain": [
       "126"
      ]
     },
     "execution_count": 6,
     "metadata": {},
     "output_type": "execute_result"
    }
   ],
   "source": [
    "## How many transactions are considered risky by the first score?\n",
    "df.risk_score1.sum()"
   ]
  },
  {
   "cell_type": "code",
   "execution_count": 7,
   "id": "d82ba5e7",
   "metadata": {
    "slideshow": {
     "slide_type": "skip"
    }
   },
   "outputs": [
    {
     "data": {
      "text/plain": [
       "179"
      ]
     },
     "execution_count": 7,
     "metadata": {},
     "output_type": "execute_result"
    }
   ],
   "source": [
    "## How many transactions are considered risky by the second score?\n",
    "df.risk_score2.sum()"
   ]
  },
  {
   "cell_type": "code",
   "execution_count": 8,
   "id": "ce8c1087",
   "metadata": {
    "slideshow": {
     "slide_type": "skip"
    }
   },
   "outputs": [
    {
     "data": {
      "text/plain": [
       "153"
      ]
     },
     "execution_count": 8,
     "metadata": {},
     "output_type": "execute_result"
    }
   ],
   "source": [
    "## How many transactions were actually bad?\n",
    "df.bad_transaction.sum()"
   ]
  },
  {
   "cell_type": "code",
   "execution_count": 9,
   "id": "1fc28ced",
   "metadata": {
    "slideshow": {
     "slide_type": "skip"
    }
   },
   "outputs": [
    {
     "data": {
      "text/plain": [
       "0.18567961165048544"
      ]
     },
     "execution_count": 9,
     "metadata": {},
     "output_type": "execute_result"
    }
   ],
   "source": [
    "## What percentage of transactions are bad? \n",
    "153/824"
   ]
  },
  {
   "cell_type": "code",
   "execution_count": 10,
   "id": "4fe59bcd",
   "metadata": {
    "slideshow": {
     "slide_type": "skip"
    }
   },
   "outputs": [
    {
     "data": {
      "text/plain": [
       "42"
      ]
     },
     "execution_count": 10,
     "metadata": {},
     "output_type": "execute_result"
    }
   ],
   "source": [
    "## How many transactions are considered risky by the first interaction term?\n",
    "df.interaction_1.sum()"
   ]
  },
  {
   "cell_type": "code",
   "execution_count": 11,
   "id": "2e1d687e",
   "metadata": {
    "slideshow": {
     "slide_type": "skip"
    }
   },
   "outputs": [
    {
     "data": {
      "text/plain": [
       "323"
      ]
     },
     "execution_count": 11,
     "metadata": {},
     "output_type": "execute_result"
    }
   ],
   "source": [
    "## How many transactions are considered risky by the second interaction term?\n",
    "df.interaction_2.sum()"
   ]
  },
  {
   "cell_type": "code",
   "execution_count": 12,
   "id": "a1e0657c",
   "metadata": {
    "slideshow": {
     "slide_type": "skip"
    }
   },
   "outputs": [
    {
     "data": {
      "text/plain": [
       "74.88106796116504"
      ]
     },
     "execution_count": 12,
     "metadata": {},
     "output_type": "execute_result"
    }
   ],
   "source": [
    "## The average size of a transaction in USD\n",
    "df.transaction.mean()"
   ]
  },
  {
   "cell_type": "code",
   "execution_count": 13,
   "id": "67b0cc5b",
   "metadata": {
    "slideshow": {
     "slide_type": "skip"
    }
   },
   "outputs": [
    {
     "data": {
      "text/plain": [
       "74.23248882265275"
      ]
     },
     "execution_count": 13,
     "metadata": {},
     "output_type": "execute_result"
    }
   ],
   "source": [
    "df[df['bad_transaction']==0]['transaction'].mean()"
   ]
  },
  {
   "cell_type": "code",
   "execution_count": 14,
   "id": "f48f41ce",
   "metadata": {
    "slideshow": {
     "slide_type": "skip"
    }
   },
   "outputs": [
    {
     "data": {
      "text/plain": [
       "77.72549019607843"
      ]
     },
     "execution_count": 14,
     "metadata": {},
     "output_type": "execute_result"
    }
   ],
   "source": [
    "df[df['bad_transaction']==1]['transaction'].mean()"
   ]
  },
  {
   "cell_type": "markdown",
   "id": "1729e5fb",
   "metadata": {
    "slideshow": {
     "slide_type": "-"
    }
   },
   "source": [
    "- The dataset has 824 observations, so it is relatively small. \n",
    "\n",
    "- The number of bad transactions is 153 (18.56%). So the company's problem is serious. On the positive side for the analysis, we are not facing an unbalanced sample. \n",
    "    \n",
    "- Average dollar amount per transaction: \n",
    "    - Good transactions: 74.23\n",
    "    - Bad transactions:  77.73"
   ]
  },
  {
   "cell_type": "markdown",
   "id": "f39c9d11",
   "metadata": {
    "slideshow": {
     "slide_type": "slide"
    }
   },
   "source": [
    "## The business problem"
   ]
  },
  {
   "cell_type": "code",
   "execution_count": 15,
   "id": "24298971",
   "metadata": {
    "slideshow": {
     "slide_type": "skip"
    }
   },
   "outputs": [
    {
     "data": {
      "text/plain": [
       "11892"
      ]
     },
     "execution_count": 15,
     "metadata": {},
     "output_type": "execute_result"
    }
   ],
   "source": [
    "## Money lost\n",
    "lost=df['bad_transaction']*df['transaction']\n",
    "lost.sum()"
   ]
  },
  {
   "cell_type": "code",
   "execution_count": 16,
   "id": "74cd6fae",
   "metadata": {
    "slideshow": {
     "slide_type": "skip"
    }
   },
   "outputs": [],
   "source": [
    "## Money made\n",
    "made=0.05*(df[df['bad_transaction']==0]['transaction'].sum())"
   ]
  },
  {
   "cell_type": "code",
   "execution_count": 17,
   "id": "ec28319a",
   "metadata": {
    "slideshow": {
     "slide_type": "skip"
    }
   },
   "outputs": [
    {
     "data": {
      "text/plain": [
       "2490.5"
      ]
     },
     "execution_count": 17,
     "metadata": {},
     "output_type": "execute_result"
    }
   ],
   "source": [
    "made"
   ]
  },
  {
   "cell_type": "code",
   "execution_count": 18,
   "id": "55b1b5ce",
   "metadata": {
    "slideshow": {
     "slide_type": "skip"
    }
   },
   "outputs": [
    {
     "data": {
      "text/plain": [
       "-9401.5"
      ]
     },
     "execution_count": 18,
     "metadata": {},
     "output_type": "execute_result"
    }
   ],
   "source": [
    "## Profit\n",
    "profit=made-lost.sum()\n",
    "profit"
   ]
  },
  {
   "cell_type": "markdown",
   "id": "69272bca",
   "metadata": {
    "slideshow": {
     "slide_type": "-"
    }
   },
   "source": [
    "According to the dataset, this is the current state of the business: \n",
    "\n",
    "- Income from good transactions: 2490.5\n",
    "- Loss from bad transactions:   -11892\n",
    "- **Net loss:                     -9401.5**\n",
    "\n",
    "The company lost USD 9400 because their credit scoring process is lacking. It does not really account for risk, since it approves most transactions. The CEO wants to know how to reduce bad transactions to increase profits (or decrease losses).\n",
    "\n",
    "The analysis will center on finding the best classification model to max profits/minimize losses from the following alternatives:\n",
    "\n",
    "- Credit Score 1\n",
    "- Credit Score 2\n",
    "- Interactions of Score 1 and Score 2\n",
    "- Logistic regression model\n",
    "- KNN model"
   ]
  },
  {
   "cell_type": "markdown",
   "id": "a363da57",
   "metadata": {
    "slideshow": {
     "slide_type": "slide"
    }
   },
   "source": [
    "## Model 1: Credit Score 1"
   ]
  },
  {
   "cell_type": "markdown",
   "id": "ca22574d",
   "metadata": {
    "slideshow": {
     "slide_type": "-"
    }
   },
   "source": [
    "The accuracy of Credit Score 1 can be analyzed with a confusion matrix. This classifies transactions in four groups:   \n",
    "\n",
    "    (true label, predicted label)\n",
    "\n",
    "- True positives:  transactions that the score predicted would be losses and indeed the customer had no funds (1,1)\n",
    "- True negatives:  transactions that the score predicted would be good transactions and indeed were good (0,0) \n",
    "- False positives: transactions that the score predicted would be bad were actually good (0,1) \n",
    "- False negatives: transactions that the score predicted would be good and were actually bad (1,0)"
   ]
  },
  {
   "cell_type": "code",
   "execution_count": 19,
   "id": "e7622cdc",
   "metadata": {
    "slideshow": {
     "slide_type": "slide"
    }
   },
   "outputs": [
    {
     "data": {
      "image/png": "[encoded data removed]",
      "text/plain": [
       "<Figure size 640x480 with 2 Axes>"
      ]
     },
     "metadata": {},
     "output_type": "display_data"
    }
   ],
   "source": [
    "## Confusion Matrix for Score 1\n",
    "from sklearn.metrics import confusion_matrix, ConfusionMatrixDisplay\n",
    "\n",
    "# Generating the confusion matrix  \n",
    "cf_matrix = confusion_matrix(df.bad_transaction, df.risk_score1)\n",
    "\n",
    "# where bad_transaction is the actual outcome and risk_score 1 is the predicted outcome\n",
    "\n",
    "# Displaying the confusion matrix\n",
    "ConfusionMatrixDisplay(cf_matrix).plot(cmap='Greens')\n",
    "plt.show()"
   ]
  },
  {
   "cell_type": "markdown",
   "id": "fb248244",
   "metadata": {
    "slideshow": {
     "slide_type": "slide"
    }
   },
   "source": [
    "Remember, '1' is a bad transaction, i.e. \"a positive\" in the nomenclature. \n",
    "\n",
    "The matrix is read in the following way: \n",
    "- (1,1). True positives. The transaction was bad and the model predicted it as such. 53    \n",
    "- (0,0). True negative. The transaction was good and the model predicted it as such. 598\n",
    "- (0,1). False positive. The transaction was good but the model predicted it would be bad. 73 \n",
    "- (1,0). False negative. The transaccion was bad, but the model predicted it would be good. 100\n",
    "\n",
    "The first two are exactly what the model is supposed to screen. False positives would be opportunity costs: revenue not generated because of a stringent risk model. False negatives are unidentified losses by the model. These generate the losses. \n",
    "So the adequacy of the model for the purpose of the business is finding the right balance between these two quadrants. "
   ]
  },
  {
   "cell_type": "code",
   "execution_count": 20,
   "id": "7c5df9ea",
   "metadata": {
    "slideshow": {
     "slide_type": "skip"
    }
   },
   "outputs": [],
   "source": [
    "tn=598\n",
    "fn=100\n",
    "tp=53\n",
    "fp=73\n",
    "sum_all=824"
   ]
  },
  {
   "cell_type": "markdown",
   "id": "af301872",
   "metadata": {
    "slideshow": {
     "slide_type": "skip"
    }
   },
   "source": [
    "Using these definitions, accuracy can be written as:\n",
    "\n",
    "$$Accuracy = \\frac{TN+TP}{TN+FP+FN+TP}$$"
   ]
  },
  {
   "cell_type": "code",
   "execution_count": 21,
   "id": "2af9f125",
   "metadata": {
    "slideshow": {
     "slide_type": "skip"
    }
   },
   "outputs": [],
   "source": [
    "accu_score1= (tn + tp )/ sum_all"
   ]
  },
  {
   "cell_type": "code",
   "execution_count": 22,
   "id": "ba35354e",
   "metadata": {
    "slideshow": {
     "slide_type": "skip"
    }
   },
   "outputs": [
    {
     "data": {
      "text/plain": [
       "0.7900485436893204"
      ]
     },
     "execution_count": 22,
     "metadata": {},
     "output_type": "execute_result"
    }
   ],
   "source": [
    "accu_score1"
   ]
  },
  {
   "cell_type": "markdown",
   "id": "98930271",
   "metadata": {
    "slideshow": {
     "slide_type": "skip"
    }
   },
   "source": [
    "Accuracy of score 1 is 79%"
   ]
  },
  {
   "cell_type": "markdown",
   "id": "c27f02cb",
   "metadata": {
    "slideshow": {
     "slide_type": "skip"
    }
   },
   "source": [
    "Precision measures what proportion of a model assigned to positive are actually members of the positive class:\n",
    "\n",
    "$$Precision = \\frac{TP}{TP+FP}$$"
   ]
  },
  {
   "cell_type": "code",
   "execution_count": 23,
   "id": "e6f43a7d",
   "metadata": {
    "slideshow": {
     "slide_type": "skip"
    }
   },
   "outputs": [],
   "source": [
    "prec_score1=tp/(tp+fp)"
   ]
  },
  {
   "cell_type": "code",
   "execution_count": 24,
   "id": "221bfa74",
   "metadata": {
    "slideshow": {
     "slide_type": "skip"
    }
   },
   "outputs": [
    {
     "data": {
      "text/plain": [
       "0.42063492063492064"
      ]
     },
     "execution_count": 24,
     "metadata": {},
     "output_type": "execute_result"
    }
   ],
   "source": [
    "prec_score1"
   ]
  },
  {
   "cell_type": "markdown",
   "id": "a3666a5a",
   "metadata": {
    "slideshow": {
     "slide_type": "skip"
    }
   },
   "source": [
    "The model is not very precise. False positives are more than true positives. "
   ]
  },
  {
   "cell_type": "markdown",
   "id": "86589728",
   "metadata": {
    "slideshow": {
     "slide_type": "skip"
    }
   },
   "source": [
    "Recall measures how many members of the positive class the model correctly identified out of the total:\n",
    "\n",
    "$$Recall = \\frac{TP}{TP+FN}$$"
   ]
  },
  {
   "cell_type": "code",
   "execution_count": 25,
   "id": "41423785",
   "metadata": {
    "slideshow": {
     "slide_type": "skip"
    }
   },
   "outputs": [],
   "source": [
    "rec_score1=tp/(tp+fn)"
   ]
  },
  {
   "cell_type": "code",
   "execution_count": 26,
   "id": "e394eb0b",
   "metadata": {
    "slideshow": {
     "slide_type": "skip"
    }
   },
   "outputs": [
    {
     "data": {
      "text/plain": [
       "0.3464052287581699"
      ]
     },
     "execution_count": 26,
     "metadata": {},
     "output_type": "execute_result"
    }
   ],
   "source": [
    "rec_score1"
   ]
  },
  {
   "cell_type": "markdown",
   "id": "d3338f07",
   "metadata": {
    "slideshow": {
     "slide_type": "skip"
    }
   },
   "source": [
    "Recall is lacking at 0.35. It classified 100 observations as false negatives, more than the true positives. "
   ]
  },
  {
   "cell_type": "markdown",
   "id": "ed8646b1",
   "metadata": {
    "slideshow": {
     "slide_type": "slide"
    }
   },
   "source": [
    "### Profit"
   ]
  },
  {
   "cell_type": "markdown",
   "id": "0d36f0ba",
   "metadata": {
    "slideshow": {
     "slide_type": "skip"
    }
   },
   "source": [
    "It the business only used this model, fp and tp would have not been accepted as transactions: 73+53 observations would have been labeled as risky. "
   ]
  },
  {
   "cell_type": "code",
   "execution_count": 27,
   "id": "7e992dd3",
   "metadata": {
    "slideshow": {
     "slide_type": "skip"
    }
   },
   "outputs": [],
   "source": [
    "## Calculating the tn dataframe\n",
    "tndf=df[(df['risk_score1']==0) & (df['bad_transaction']==0)]"
   ]
  },
  {
   "cell_type": "code",
   "execution_count": 28,
   "id": "79940094",
   "metadata": {
    "slideshow": {
     "slide_type": "skip"
    }
   },
   "outputs": [
    {
     "data": {
      "text/plain": [
       "(598, 11)"
      ]
     },
     "execution_count": 28,
     "metadata": {},
     "output_type": "execute_result"
    }
   ],
   "source": [
    "tndf.shape"
   ]
  },
  {
   "cell_type": "markdown",
   "id": "7d540608",
   "metadata": {
    "slideshow": {
     "slide_type": "skip"
    }
   },
   "source": [
    "Indeed it has 598 observations as in the confussion matrix. "
   ]
  },
  {
   "cell_type": "code",
   "execution_count": 29,
   "id": "048991b5",
   "metadata": {
    "slideshow": {
     "slide_type": "skip"
    }
   },
   "outputs": [],
   "source": [
    "## Estimating revenue\n",
    "Revenue_score1=0.05*(tndf['transaction'].sum())"
   ]
  },
  {
   "cell_type": "code",
   "execution_count": 30,
   "id": "cf07cab5",
   "metadata": {
    "scrolled": true,
    "slideshow": {
     "slide_type": "skip"
    }
   },
   "outputs": [
    {
     "data": {
      "text/plain": [
       "2224.4500000000003"
      ]
     },
     "execution_count": 30,
     "metadata": {},
     "output_type": "execute_result"
    }
   ],
   "source": [
    "Revenue_score1"
   ]
  },
  {
   "cell_type": "code",
   "execution_count": 31,
   "id": "13de5581",
   "metadata": {
    "slideshow": {
     "slide_type": "skip"
    }
   },
   "outputs": [],
   "source": [
    "## Calculating the fn dataframe\n",
    "fndf=df[(df['risk_score1']==0) & (df['bad_transaction']==1)]"
   ]
  },
  {
   "cell_type": "code",
   "execution_count": 32,
   "id": "f0bd46d6",
   "metadata": {
    "slideshow": {
     "slide_type": "skip"
    }
   },
   "outputs": [
    {
     "data": {
      "text/plain": [
       "(100, 11)"
      ]
     },
     "execution_count": 32,
     "metadata": {},
     "output_type": "execute_result"
    }
   ],
   "source": [
    "## indeed the frame has 100 observations as in the confusion matrix\n",
    "fndf.shape"
   ]
  },
  {
   "cell_type": "code",
   "execution_count": 33,
   "id": "2a59a7a2",
   "metadata": {
    "slideshow": {
     "slide_type": "skip"
    }
   },
   "outputs": [],
   "source": [
    "loss_score1=(fndf['transaction'].sum())"
   ]
  },
  {
   "cell_type": "code",
   "execution_count": 34,
   "id": "495059b4",
   "metadata": {
    "slideshow": {
     "slide_type": "skip"
    }
   },
   "outputs": [
    {
     "data": {
      "text/plain": [
       "7654"
      ]
     },
     "execution_count": 34,
     "metadata": {},
     "output_type": "execute_result"
    }
   ],
   "source": [
    "loss_score1"
   ]
  },
  {
   "cell_type": "code",
   "execution_count": 35,
   "id": "91f18f9e",
   "metadata": {
    "slideshow": {
     "slide_type": "skip"
    }
   },
   "outputs": [],
   "source": [
    "Profit_score1=Revenue_score1-loss_score1"
   ]
  },
  {
   "cell_type": "code",
   "execution_count": 36,
   "id": "64a33b84",
   "metadata": {
    "slideshow": {
     "slide_type": "skip"
    }
   },
   "outputs": [
    {
     "data": {
      "text/plain": [
       "-5429.549999999999"
      ]
     },
     "execution_count": 36,
     "metadata": {},
     "output_type": "execute_result"
    }
   ],
   "source": [
    "Profit_score1"
   ]
  },
  {
   "cell_type": "markdown",
   "id": "9edcab70",
   "metadata": {
    "slideshow": {
     "slide_type": "slide"
    }
   },
   "source": [
    "**Results for Model Score_1:**  \n",
    "\n",
    "1. Accuracy: percentage of trues that the model gets correctly. score: 79%. Mediocre. \n",
    "\n",
    "2. Precision: measures what proportion of a model assigned to positive are actually members of the positive class. score: 42%. Not very precise. More false positives are more than true positives. \n",
    "\n",
    "3. Recall:  measures how many members of the positive class the model correctly identified out of the total. 35%. \n",
    "Not good. More false negatives than true positives. \n",
    "\n",
    "**Business metrics:**\n",
    "- Income from good transactions: 2224.45\n",
    "- Loss from bad transactions:   -7654\n",
    "- **Net loss:                  -5429.55**\n",
    "\n",
    "So by using the score from provider 1, the company has saved 3972 dollars (i.e. a smaller net loss) versus not using a score at all. However, they are still operating at a loss of 5429 dollars. The problem is that false negatives are very costly."
   ]
  },
  {
   "cell_type": "markdown",
   "id": "46887765",
   "metadata": {
    "slideshow": {
     "slide_type": "slide"
    }
   },
   "source": [
    "## Model 2: Credit Score 2"
   ]
  },
  {
   "cell_type": "code",
   "execution_count": 37,
   "id": "caea148a",
   "metadata": {
    "slideshow": {
     "slide_type": "slide"
    }
   },
   "outputs": [
    {
     "data": {
      "image/png": "[encoded data removed]",
      "text/plain": [
       "<Figure size 640x480 with 2 Axes>"
      ]
     },
     "metadata": {},
     "output_type": "display_data"
    }
   ],
   "source": [
    "## Confusion Matrix for Score 2\n",
    "\n",
    "# Generating the confusion matrix  \n",
    "cf_matrix2 = confusion_matrix(df.bad_transaction, df.risk_score2)\n",
    "\n",
    "# where bad_transaction is the actual score and risk_score 2 is the predicted score\n",
    "\n",
    "# Displaying the confusion matrix\n",
    "ConfusionMatrixDisplay(cf_matrix2).plot(cmap='Blues')\n",
    "plt.show()"
   ]
  },
  {
   "cell_type": "code",
   "execution_count": 38,
   "id": "ebc81af6",
   "metadata": {
    "slideshow": {
     "slide_type": "skip"
    }
   },
   "outputs": [],
   "source": [
    "tn2=527\n",
    "fn2=118\n",
    "tp2=35\n",
    "fp2=144\n",
    "sum_all=824"
   ]
  },
  {
   "cell_type": "code",
   "execution_count": 39,
   "id": "0a474437",
   "metadata": {
    "slideshow": {
     "slide_type": "skip"
    }
   },
   "outputs": [],
   "source": [
    "accu_score2= (tn2 + tp2)/ sum_all"
   ]
  },
  {
   "cell_type": "code",
   "execution_count": 40,
   "id": "439f726a",
   "metadata": {
    "slideshow": {
     "slide_type": "skip"
    }
   },
   "outputs": [
    {
     "data": {
      "text/plain": [
       "0.6820388349514563"
      ]
     },
     "execution_count": 40,
     "metadata": {},
     "output_type": "execute_result"
    }
   ],
   "source": [
    "accu_score2"
   ]
  },
  {
   "cell_type": "markdown",
   "id": "7520403a",
   "metadata": {
    "slideshow": {
     "slide_type": "skip"
    }
   },
   "source": [
    "Accuracy is lower than for model 1. "
   ]
  },
  {
   "cell_type": "code",
   "execution_count": 41,
   "id": "04c3d909",
   "metadata": {
    "slideshow": {
     "slide_type": "skip"
    }
   },
   "outputs": [],
   "source": [
    "prec_score2=tp2/(tp2+fp2)"
   ]
  },
  {
   "cell_type": "code",
   "execution_count": 42,
   "id": "fb83baca",
   "metadata": {
    "slideshow": {
     "slide_type": "skip"
    }
   },
   "outputs": [
    {
     "data": {
      "text/plain": [
       "0.19553072625698323"
      ]
     },
     "execution_count": 42,
     "metadata": {},
     "output_type": "execute_result"
    }
   ],
   "source": [
    "prec_score2"
   ]
  },
  {
   "cell_type": "code",
   "execution_count": 43,
   "id": "7656461a",
   "metadata": {
    "slideshow": {
     "slide_type": "skip"
    }
   },
   "outputs": [],
   "source": [
    "rec_score2=tp2/(tp2+fn2)"
   ]
  },
  {
   "cell_type": "code",
   "execution_count": 44,
   "id": "33ad44ea",
   "metadata": {
    "slideshow": {
     "slide_type": "skip"
    }
   },
   "outputs": [
    {
     "data": {
      "text/plain": [
       "0.22875816993464052"
      ]
     },
     "execution_count": 44,
     "metadata": {},
     "output_type": "execute_result"
    }
   ],
   "source": [
    "rec_score2"
   ]
  },
  {
   "cell_type": "markdown",
   "id": "854aa822",
   "metadata": {
    "slideshow": {
     "slide_type": "slide"
    }
   },
   "source": [
    "**Results for Model Score_2:** \n",
    "\n",
    "1. Accuracy: percentage of trues that the model gets correctly. 68%. Bad.\n",
    "\n",
    "2. Precision: measures what proportion of a model assigned to positive are actually members of the positive class. 20%. Very bad.\n",
    "\n",
    "3. Recall:  measures how many members of the positive class the model correctly identified out of the total. 23%. Very bad. \n",
    "\n",
    "On all metrics, it is inferior to model 1. Hence, the loss will be worse. No need to calculate profit here.  \n",
    "Estimations are done in the notebook. "
   ]
  },
  {
   "cell_type": "markdown",
   "id": "b5eac702",
   "metadata": {
    "slideshow": {
     "slide_type": "slide"
    }
   },
   "source": [
    "## Model 3: Interaction  of Score 1 & Score 2"
   ]
  },
  {
   "cell_type": "code",
   "execution_count": 45,
   "id": "c2b1cdf2",
   "metadata": {
    "slideshow": {
     "slide_type": "skip"
    }
   },
   "outputs": [
    {
     "data": {
      "text/plain": [
       "42"
      ]
     },
     "execution_count": 45,
     "metadata": {},
     "output_type": "execute_result"
    }
   ],
   "source": [
    "df.interaction_1.sum()"
   ]
  },
  {
   "cell_type": "raw",
   "id": "27cc1384",
   "metadata": {
    "slideshow": {
     "slide_type": "skip"
    }
   },
   "source": [
    "The interaction terms are used to estimate true positives. Here the number is really low, considering that positives are 153. This does not bode well. No need to calculate profit here.  "
   ]
  },
  {
   "cell_type": "code",
   "execution_count": 52,
   "id": "51c1b8fc",
   "metadata": {
    "slideshow": {
     "slide_type": "skip"
    }
   },
   "outputs": [
    {
     "data": {
      "text/plain": [
       "323"
      ]
     },
     "execution_count": 52,
     "metadata": {},
     "output_type": "execute_result"
    }
   ],
   "source": [
    "df.interaction_2.sum()"
   ]
  },
  {
   "cell_type": "markdown",
   "id": "218b662f",
   "metadata": {
    "slideshow": {
     "slide_type": "-"
    }
   },
   "source": [
    "Interaction_1 only has 42 positives. Considering there are 153 positives in the database. This does not bode well. No need to calculate profit here.  \n",
    "\n",
    "Interaction_2  has 323 positives, so at least has a chance to catch all positives, but it's clear it will have a problem with false positives, as it doubles the amount of positives. It will reduce revenue for the company while overestimating risk. Let's conduct the exercise to calculate profits under this model. "
   ]
  },
  {
   "cell_type": "code",
   "execution_count": 53,
   "id": "0fdd6c8c",
   "metadata": {
    "slideshow": {
     "slide_type": "slide"
    }
   },
   "outputs": [
    {
     "data": {
      "image/png": "[encoded data removed]",
      "text/plain": [
       "<Figure size 640x480 with 2 Axes>"
      ]
     },
     "metadata": {},
     "output_type": "display_data"
    }
   ],
   "source": [
    "## Confusion Matrix for interaction term 2\n",
    "\n",
    "# Generating the confusion matrix  \n",
    "cf_matrix3 = confusion_matrix(df.bad_transaction, df.interaction_2)\n",
    "\n",
    "# where bad_transaction is the actual score and interaction_2 is the predicted score\n",
    "\n",
    "# Displaying the confusion matrix\n",
    "ConfusionMatrixDisplay(cf_matrix3).plot(cmap='Reds')\n",
    "plt.show()"
   ]
  },
  {
   "cell_type": "markdown",
   "id": "2c7ede01",
   "metadata": {
    "slideshow": {
     "slide_type": "skip"
    }
   },
   "source": [
    "As expected, false positives are an issue, and the model only catches a bit more then half of the true positives. "
   ]
  },
  {
   "cell_type": "code",
   "execution_count": 54,
   "id": "23517a20",
   "metadata": {
    "slideshow": {
     "slide_type": "skip"
    }
   },
   "outputs": [],
   "source": [
    "tn3=434\n",
    "fn3=67\n",
    "tp3=86\n",
    "fp3=237"
   ]
  },
  {
   "cell_type": "code",
   "execution_count": 55,
   "id": "d2981f9a",
   "metadata": {
    "slideshow": {
     "slide_type": "skip"
    }
   },
   "outputs": [],
   "source": [
    "accu_score3= (tn3 + tp3)/ sum_all\n",
    "prec_score3=tp3/(tp3+fp3)\n",
    "rec_score3=tp3/(tp3+fn3)"
   ]
  },
  {
   "cell_type": "code",
   "execution_count": 56,
   "id": "fd0e80c2",
   "metadata": {
    "slideshow": {
     "slide_type": "skip"
    }
   },
   "outputs": [
    {
     "data": {
      "text/plain": [
       "0.6310679611650486"
      ]
     },
     "execution_count": 56,
     "metadata": {},
     "output_type": "execute_result"
    }
   ],
   "source": [
    "accu_score3"
   ]
  },
  {
   "cell_type": "code",
   "execution_count": 57,
   "id": "291511fe",
   "metadata": {
    "slideshow": {
     "slide_type": "skip"
    }
   },
   "outputs": [
    {
     "data": {
      "text/plain": [
       "0.26625386996904027"
      ]
     },
     "execution_count": 57,
     "metadata": {},
     "output_type": "execute_result"
    }
   ],
   "source": [
    "prec_score3"
   ]
  },
  {
   "cell_type": "code",
   "execution_count": 58,
   "id": "8250e294",
   "metadata": {
    "slideshow": {
     "slide_type": "skip"
    }
   },
   "outputs": [
    {
     "data": {
      "text/plain": [
       "0.5620915032679739"
      ]
     },
     "execution_count": 58,
     "metadata": {},
     "output_type": "execute_result"
    }
   ],
   "source": [
    "rec_score3"
   ]
  },
  {
   "cell_type": "code",
   "execution_count": 59,
   "id": "62ddccfb",
   "metadata": {
    "slideshow": {
     "slide_type": "skip"
    }
   },
   "outputs": [],
   "source": [
    "## Calculating the tn dataframe\n",
    "tndf3=df[(df['interaction_2']==0) & (df['bad_transaction']==0)]"
   ]
  },
  {
   "cell_type": "code",
   "execution_count": 60,
   "id": "e410bead",
   "metadata": {
    "slideshow": {
     "slide_type": "skip"
    }
   },
   "outputs": [
    {
     "data": {
      "text/plain": [
       "(434, 11)"
      ]
     },
     "execution_count": 60,
     "metadata": {},
     "output_type": "execute_result"
    }
   ],
   "source": [
    "tndf3.shape"
   ]
  },
  {
   "cell_type": "code",
   "execution_count": 61,
   "id": "bb5d5093",
   "metadata": {
    "slideshow": {
     "slide_type": "skip"
    }
   },
   "outputs": [],
   "source": [
    "## Calculating the fn dataframe\n",
    "fndf3=df[(df['interaction_2']==0) & (df['bad_transaction']==1)]"
   ]
  },
  {
   "cell_type": "code",
   "execution_count": 62,
   "id": "407a993f",
   "metadata": {
    "slideshow": {
     "slide_type": "skip"
    }
   },
   "outputs": [
    {
     "data": {
      "text/plain": [
       "(67, 11)"
      ]
     },
     "execution_count": 62,
     "metadata": {},
     "output_type": "execute_result"
    }
   ],
   "source": [
    "fndf3.shape"
   ]
  },
  {
   "cell_type": "code",
   "execution_count": 63,
   "id": "0debfd4e",
   "metadata": {
    "slideshow": {
     "slide_type": "skip"
    }
   },
   "outputs": [],
   "source": [
    "## Estimating revenue\n",
    "Revenue3=0.05*(tndf3['transaction'].sum())"
   ]
  },
  {
   "cell_type": "code",
   "execution_count": 64,
   "id": "c29a12a1",
   "metadata": {
    "slideshow": {
     "slide_type": "skip"
    }
   },
   "outputs": [
    {
     "data": {
      "text/plain": [
       "1616.4"
      ]
     },
     "execution_count": 64,
     "metadata": {},
     "output_type": "execute_result"
    }
   ],
   "source": [
    "Revenue3"
   ]
  },
  {
   "cell_type": "code",
   "execution_count": 146,
   "id": "e7e680d9",
   "metadata": {
    "slideshow": {
     "slide_type": "skip"
    }
   },
   "outputs": [],
   "source": [
    "loss3=(fndf3['transaction'].sum())"
   ]
  },
  {
   "cell_type": "code",
   "execution_count": 147,
   "id": "5115dee1",
   "metadata": {
    "slideshow": {
     "slide_type": "skip"
    }
   },
   "outputs": [
    {
     "data": {
      "text/plain": [
       "5223"
      ]
     },
     "execution_count": 147,
     "metadata": {},
     "output_type": "execute_result"
    }
   ],
   "source": [
    "loss3"
   ]
  },
  {
   "cell_type": "code",
   "execution_count": 66,
   "id": "0b5c5e61",
   "metadata": {
    "slideshow": {
     "slide_type": "skip"
    }
   },
   "outputs": [],
   "source": [
    "Profit3=Revenue3-loss3"
   ]
  },
  {
   "cell_type": "code",
   "execution_count": 67,
   "id": "199ba8de",
   "metadata": {
    "slideshow": {
     "slide_type": "skip"
    }
   },
   "outputs": [
    {
     "data": {
      "text/plain": [
       "-3606.6"
      ]
     },
     "execution_count": 67,
     "metadata": {},
     "output_type": "execute_result"
    }
   ],
   "source": [
    "Profit3"
   ]
  },
  {
   "cell_type": "markdown",
   "id": "9fdd9a91",
   "metadata": {
    "slideshow": {
     "slide_type": "slide"
    }
   },
   "source": [
    "**Results for interaction_2 model**  \n",
    "\n",
    "- Accuracy: percentage of trues that the model gets correctly. 63%. Bad.\n",
    "- Precision: measures what proportion of a model assigned to positive are actually members of the positive class. 27%. Very bad.\n",
    "- Recall: measures how many members of the positive class the model correctly identified out of the total. 56%. Bad, but better than the previous models. This might help mitigate the false negatives and avoid losses. \n",
    "\n",
    "**Business metrics:**  \n",
    "- Income from good transactions: 1616.40\n",
    "- Loss from bad transactions:   -5223\n",
    "- **Net loss:                     -3606.60**\n",
    "\n",
    "Total revenue takes a substantial hit from losing the false positive revenue. This is the best model so far, as the loss is smallest, USD 3607. This is because recall is the most important of the measures in terms for this particular business model. "
   ]
  },
  {
   "cell_type": "markdown",
   "id": "5ee33c35",
   "metadata": {
    "slideshow": {
     "slide_type": "slide"
    }
   },
   "source": [
    "## Model 4: Logistic Regression"
   ]
  },
  {
   "cell_type": "markdown",
   "id": "7891f4d8",
   "metadata": {
    "slideshow": {
     "slide_type": "slide"
    }
   },
   "source": [
    "### Using Scikit Learn"
   ]
  },
  {
   "cell_type": "markdown",
   "id": "ec0bf0e7",
   "metadata": {
    "slideshow": {
     "slide_type": "skip"
    }
   },
   "source": [
    "The objective of this model is to improve on the profit of the previous scores. \n",
    "To use a logistic regression model with this data, I want to follow the next steps: \n",
    "- Separate features and target \n",
    "- Scale the data\n",
    "- Optimize hyperparameters with k-fold validation\n",
    "- Fit model\n",
    "- Evaluate "
   ]
  },
  {
   "cell_type": "markdown",
   "id": "c14b0ed9",
   "metadata": {
    "slideshow": {
     "slide_type": "skip"
    }
   },
   "source": [
    "Since data is scarce, I will not be separating into the traditional train-test split. This is an ananlysis to help guide the company. With more data, and before taking the model to production, this could be done. "
   ]
  },
  {
   "cell_type": "code",
   "execution_count": 68,
   "id": "e55746b8",
   "metadata": {
    "slideshow": {
     "slide_type": "skip"
    }
   },
   "outputs": [
    {
     "name": "stdout",
     "output_type": "stream",
     "text": [
      "<class 'pandas.core.frame.DataFrame'>\n",
      "RangeIndex: 824 entries, 0 to 823\n",
      "Data columns (total 11 columns):\n",
      " #   Column           Non-Null Count  Dtype \n",
      "---  ------           --------------  ----- \n",
      " 0   score_1          824 non-null    object\n",
      " 1   risk_score1      824 non-null    int64 \n",
      " 2   score_2          824 non-null    object\n",
      " 3   risk_score2      824 non-null    int64 \n",
      " 4   interaction_1    824 non-null    int64 \n",
      " 5   interaction_2    824 non-null    int64 \n",
      " 6   transaction      824 non-null    int64 \n",
      " 7   bad_transaction  824 non-null    int64 \n",
      " 8   state            823 non-null    object\n",
      " 9   population       824 non-null    int64 \n",
      " 10  sc_control       824 non-null    int64 \n",
      "dtypes: int64(8), object(3)\n",
      "memory usage: 70.9+ KB\n"
     ]
    }
   ],
   "source": [
    "df.info()"
   ]
  },
  {
   "cell_type": "code",
   "execution_count": 69,
   "id": "9cf503d9",
   "metadata": {
    "slideshow": {
     "slide_type": "skip"
    }
   },
   "outputs": [],
   "source": [
    "# Step 1: Separating the features and target\n",
    "X = df.iloc[:, [1,3,4,5,6,9,10]]\n",
    "y = df.iloc[:,7]\n",
    "\n",
    "# adding an intercept\n",
    "X = sm.add_constant(X)"
   ]
  },
  {
   "cell_type": "code",
   "execution_count": 71,
   "id": "7f055fde",
   "metadata": {
    "slideshow": {
     "slide_type": "skip"
    }
   },
   "outputs": [
    {
     "data": {
      "text/html": [
       "<div>\n",
       "<style scoped>\n",
       "    .dataframe tbody tr th:only-of-type {\n",
       "        vertical-align: middle;\n",
       "    }\n",
       "\n",
       "    .dataframe tbody tr th {\n",
       "        vertical-align: top;\n",
       "    }\n",
       "\n",
       "    .dataframe thead th {\n",
       "        text-align: right;\n",
       "    }\n",
       "</style>\n",
       "<table border=\"1\" class=\"dataframe\">\n",
       "  <thead>\n",
       "    <tr style=\"text-align: right;\">\n",
       "      <th></th>\n",
       "      <th>const</th>\n",
       "      <th>risk_score1</th>\n",
       "      <th>risk_score2</th>\n",
       "      <th>interaction_1</th>\n",
       "      <th>interaction_2</th>\n",
       "      <th>transaction</th>\n",
       "      <th>population</th>\n",
       "      <th>sc_control</th>\n",
       "    </tr>\n",
       "  </thead>\n",
       "  <tbody>\n",
       "    <tr>\n",
       "      <th>0</th>\n",
       "      <td>1.0</td>\n",
       "      <td>0</td>\n",
       "      <td>1</td>\n",
       "      <td>0</td>\n",
       "      <td>1</td>\n",
       "      <td>79</td>\n",
       "      <td>0</td>\n",
       "      <td>0</td>\n",
       "    </tr>\n",
       "    <tr>\n",
       "      <th>1</th>\n",
       "      <td>1.0</td>\n",
       "      <td>0</td>\n",
       "      <td>0</td>\n",
       "      <td>0</td>\n",
       "      <td>0</td>\n",
       "      <td>99</td>\n",
       "      <td>0</td>\n",
       "      <td>0</td>\n",
       "    </tr>\n",
       "    <tr>\n",
       "      <th>2</th>\n",
       "      <td>1.0</td>\n",
       "      <td>0</td>\n",
       "      <td>1</td>\n",
       "      <td>0</td>\n",
       "      <td>1</td>\n",
       "      <td>50</td>\n",
       "      <td>0</td>\n",
       "      <td>0</td>\n",
       "    </tr>\n",
       "  </tbody>\n",
       "</table>\n",
       "</div>"
      ],
      "text/plain": [
       "   const  risk_score1  risk_score2  interaction_1  interaction_2  transaction  \\\n",
       "0    1.0            0            1              0              1           79   \n",
       "1    1.0            0            0              0              0           99   \n",
       "2    1.0            0            1              0              1           50   \n",
       "\n",
       "   population  sc_control  \n",
       "0           0           0  \n",
       "1           0           0  \n",
       "2           0           0  "
      ]
     },
     "execution_count": 71,
     "metadata": {},
     "output_type": "execute_result"
    }
   ],
   "source": [
    "X.head(3)"
   ]
  },
  {
   "cell_type": "markdown",
   "id": "eb2ed7d6",
   "metadata": {
    "slideshow": {
     "slide_type": "skip"
    }
   },
   "source": [
    "Most are dummies except for transaction amount. Hence, we'll need to scale. "
   ]
  },
  {
   "cell_type": "code",
   "execution_count": 72,
   "id": "7a31b1b9",
   "metadata": {
    "slideshow": {
     "slide_type": "skip"
    }
   },
   "outputs": [
    {
     "data": {
      "text/plain": [
       "0      0\n",
       "1      0\n",
       "2      0\n",
       "3      0\n",
       "4      0\n",
       "      ..\n",
       "819    0\n",
       "820    0\n",
       "821    0\n",
       "822    0\n",
       "823    0\n",
       "Name: bad_transaction, Length: 824, dtype: int64"
      ]
     },
     "execution_count": 72,
     "metadata": {},
     "output_type": "execute_result"
    }
   ],
   "source": [
    "y"
   ]
  },
  {
   "cell_type": "code",
   "execution_count": 73,
   "id": "cabbee0c",
   "metadata": {
    "slideshow": {
     "slide_type": "skip"
    }
   },
   "outputs": [],
   "source": [
    "## Additional libraries needed \n",
    "\n",
    "from sklearn.model_selection import train_test_split\n",
    "from sklearn.model_selection import cross_val_score\n",
    "from sklearn.preprocessing import StandardScaler\n",
    "from sklearn.linear_model import LogisticRegression\n",
    "from sklearn.metrics import classification_report\n",
    "import random\n",
    "np.random.seed(123)\n",
    "random.seed(123)\n"
   ]
  },
  {
   "cell_type": "code",
   "execution_count": 74,
   "id": "c18aa00e",
   "metadata": {
    "slideshow": {
     "slide_type": "skip"
    }
   },
   "outputs": [],
   "source": [
    "## Step 2: Scaling the data\n",
    "\n",
    "# create an instance\n",
    "scaler = StandardScaler()\n",
    "\n",
    "# fit to training set\n",
    "scaler.fit(X)\n",
    "\n",
    "# transform both train & test sets\n",
    "X_scaled = scaler.transform(X)\n"
   ]
  },
  {
   "cell_type": "code",
   "execution_count": 75,
   "id": "759f402d",
   "metadata": {
    "slideshow": {
     "slide_type": "skip"
    }
   },
   "outputs": [
    {
     "data": {
      "image/png": "[encoded data removed]",
      "text/plain": [
       "<Figure size 640x480 with 1 Axes>"
      ]
     },
     "metadata": {},
     "output_type": "display_data"
    }
   ],
   "source": [
    "## Step 3: optimizing parameters with K-fold validation \n",
    "## I'm trying to maximize recall. As we saw earlier, this is the most relevant score for profit\n",
    "\n",
    "cross_validation_scores = []\n",
    "\n",
    "C_range = np.array([.0000001,.000001,.00001,.0001,.001,.01, .1, 1,10,100,1000,10000,100000])\n",
    "\n",
    "#Do some cross validation\n",
    "for c in C_range:\n",
    "    LR_model = LogisticRegression(C=c,random_state=1)\n",
    "    \n",
    "    # the cross validation score (mean of scores from all folds)\n",
    "    cv_score = np.mean(cross_val_score(LR_model, X_scaled, y, cv = 5, scoring='recall'))\n",
    "    \n",
    "    cross_validation_scores.append(cv_score)\n",
    "\n",
    "plt.figure()\n",
    "plt.plot(C_range, cross_validation_scores,label=\"Cross Validation Score\",marker='.')\n",
    "plt.legend()\n",
    "plt.xscale(\"log\")\n",
    "plt.xlabel('Regularization Parameter: C')\n",
    "plt.ylabel('Cross Validation Score')\n",
    "plt.grid()\n",
    "plt.show();"
   ]
  },
  {
   "cell_type": "markdown",
   "id": "2b06bb3d",
   "metadata": {
    "slideshow": {
     "slide_type": "skip"
    }
   },
   "source": [
    "Numbers above 1 seem to be the best for maximizing recall. However, it's not very good. "
   ]
  },
  {
   "cell_type": "code",
   "execution_count": 76,
   "id": "9e99de43",
   "metadata": {
    "slideshow": {
     "slide_type": "skip"
    }
   },
   "outputs": [],
   "source": [
    "## Step 4: fit the model \n",
    "\n",
    "# 1. Instanitate model\n",
    "logreg = LogisticRegression(random_state=1, C=1)\n",
    "\n",
    "# fit to training sets\n",
    "logreg.fit(X_scaled, y)\n",
    "\n",
    "# make predictions for train and test sets\n",
    "y_pred = logreg.predict(X_scaled)\n"
   ]
  },
  {
   "cell_type": "code",
   "execution_count": 148,
   "id": "4a1ef417",
   "metadata": {
    "slideshow": {
     "slide_type": "slide"
    }
   },
   "outputs": [
    {
     "name": "stdout",
     "output_type": "stream",
     "text": [
      "[[646  25]\n",
      " [128  25]]\n"
     ]
    },
    {
     "data": {
      "image/png": "[encoded data removed]",
      "text/plain": [
       "<Figure size 640x480 with 2 Axes>"
      ]
     },
     "metadata": {},
     "output_type": "display_data"
    }
   ],
   "source": [
    "# Look at confusion matrix for training set\n",
    "cm_val = confusion_matrix(y, y_pred)\n",
    "print(cm_val)\n",
    "\n",
    "# Use the nice display\n",
    "ConfusionMatrixDisplay(cm_val).plot()\n",
    "\n",
    "plt.show()"
   ]
  },
  {
   "cell_type": "code",
   "execution_count": 78,
   "id": "bd7f3de9",
   "metadata": {
    "slideshow": {
     "slide_type": "slide"
    }
   },
   "outputs": [
    {
     "name": "stdout",
     "output_type": "stream",
     "text": [
      "              precision    recall  f1-score   support\n",
      "\n",
      "           0       0.83      0.96      0.89       671\n",
      "           1       0.50      0.16      0.25       153\n",
      "\n",
      "    accuracy                           0.81       824\n",
      "   macro avg       0.67      0.56      0.57       824\n",
      "weighted avg       0.77      0.81      0.77       824\n",
      "\n"
     ]
    }
   ],
   "source": [
    "# classification report on the training data\n",
    "print(classification_report(y, y_pred))"
   ]
  },
  {
   "cell_type": "markdown",
   "id": "38dff779",
   "metadata": {
    "slideshow": {
     "slide_type": "-"
    }
   },
   "source": [
    "The recall of this model is very bad. No need to calculate profits here. We have tried the scikit learn method, but we can also run the regression using the statsmodels api and setting the threshold differently, to reduce the number of false negatives. "
   ]
  },
  {
   "cell_type": "markdown",
   "id": "e1341c3d",
   "metadata": {
    "slideshow": {
     "slide_type": "slide"
    }
   },
   "source": [
    "### Using the statsmodel API"
   ]
  },
  {
   "cell_type": "code",
   "execution_count": 79,
   "id": "e78dd3c3",
   "metadata": {
    "slideshow": {
     "slide_type": "skip"
    }
   },
   "outputs": [],
   "source": [
    "## New library imported\n",
    "import statsmodels.api as sm"
   ]
  },
  {
   "cell_type": "code",
   "execution_count": 80,
   "id": "a6f24ce5",
   "metadata": {
    "slideshow": {
     "slide_type": "skip"
    }
   },
   "outputs": [
    {
     "name": "stdout",
     "output_type": "stream",
     "text": [
      "Optimization terminated successfully.\n",
      "         Current function value: 0.431485\n",
      "         Iterations 6\n"
     ]
    },
    {
     "data": {
      "text/html": [
       "<table class=\"simpletable\">\n",
       "<caption>Logit Regression Results</caption>\n",
       "<tr>\n",
       "  <th>Dep. Variable:</th>    <td>bad_transaction</td> <th>  No. Observations:  </th>  <td>   824</td>  \n",
       "</tr>\n",
       "<tr>\n",
       "  <th>Model:</th>                 <td>Logit</td>      <th>  Df Residuals:      </th>  <td>   816</td>  \n",
       "</tr>\n",
       "<tr>\n",
       "  <th>Method:</th>                 <td>MLE</td>       <th>  Df Model:          </th>  <td>     7</td>  \n",
       "</tr>\n",
       "<tr>\n",
       "  <th>Date:</th>            <td>Wed, 19 Oct 2022</td> <th>  Pseudo R-squ.:     </th>  <td>0.1009</td>  \n",
       "</tr>\n",
       "<tr>\n",
       "  <th>Time:</th>                <td>11:34:47</td>     <th>  Log-Likelihood:    </th> <td> -355.54</td> \n",
       "</tr>\n",
       "<tr>\n",
       "  <th>converged:</th>             <td>True</td>       <th>  LL-Null:           </th> <td> -395.44</td> \n",
       "</tr>\n",
       "<tr>\n",
       "  <th>Covariance Type:</th>     <td>nonrobust</td>    <th>  LLR p-value:       </th> <td>1.525e-14</td>\n",
       "</tr>\n",
       "</table>\n",
       "<table class=\"simpletable\">\n",
       "<tr>\n",
       "        <td></td>           <th>coef</th>     <th>std err</th>      <th>z</th>      <th>P>|z|</th>  <th>[0.025</th>    <th>0.975]</th>  \n",
       "</tr>\n",
       "<tr>\n",
       "  <th>const</th>         <td>   -2.7026</td> <td>    0.455</td> <td>   -5.937</td> <td> 0.000</td> <td>   -3.595</td> <td>   -1.810</td>\n",
       "</tr>\n",
       "<tr>\n",
       "  <th>risk_score1</th>   <td>    1.1610</td> <td>    0.263</td> <td>    4.408</td> <td> 0.000</td> <td>    0.645</td> <td>    1.677</td>\n",
       "</tr>\n",
       "<tr>\n",
       "  <th>risk_score2</th>   <td>   -1.1091</td> <td>    0.328</td> <td>   -3.384</td> <td> 0.001</td> <td>   -1.751</td> <td>   -0.467</td>\n",
       "</tr>\n",
       "<tr>\n",
       "  <th>interaction_1</th> <td>    0.7902</td> <td>    0.494</td> <td>    1.599</td> <td> 0.110</td> <td>   -0.178</td> <td>    1.759</td>\n",
       "</tr>\n",
       "<tr>\n",
       "  <th>interaction_2</th> <td>    1.1309</td> <td>    0.220</td> <td>    5.137</td> <td> 0.000</td> <td>    0.699</td> <td>    1.562</td>\n",
       "</tr>\n",
       "<tr>\n",
       "  <th>transaction</th>   <td>    0.0107</td> <td>    0.005</td> <td>    1.987</td> <td> 0.047</td> <td>    0.000</td> <td>    0.021</td>\n",
       "</tr>\n",
       "<tr>\n",
       "  <th>population</th>    <td>   -0.2704</td> <td>    0.198</td> <td>   -1.369</td> <td> 0.171</td> <td>   -0.658</td> <td>    0.117</td>\n",
       "</tr>\n",
       "<tr>\n",
       "  <th>sc_control</th>    <td>   -0.5507</td> <td>    0.415</td> <td>   -1.327</td> <td> 0.185</td> <td>   -1.364</td> <td>    0.263</td>\n",
       "</tr>\n",
       "</table>"
      ],
      "text/plain": [
       "<class 'statsmodels.iolib.summary.Summary'>\n",
       "\"\"\"\n",
       "                           Logit Regression Results                           \n",
       "==============================================================================\n",
       "Dep. Variable:        bad_transaction   No. Observations:                  824\n",
       "Model:                          Logit   Df Residuals:                      816\n",
       "Method:                           MLE   Df Model:                            7\n",
       "Date:                Wed, 19 Oct 2022   Pseudo R-squ.:                  0.1009\n",
       "Time:                        11:34:47   Log-Likelihood:                -355.54\n",
       "converged:                       True   LL-Null:                       -395.44\n",
       "Covariance Type:            nonrobust   LLR p-value:                 1.525e-14\n",
       "=================================================================================\n",
       "                    coef    std err          z      P>|z|      [0.025      0.975]\n",
       "---------------------------------------------------------------------------------\n",
       "const            -2.7026      0.455     -5.937      0.000      -3.595      -1.810\n",
       "risk_score1       1.1610      0.263      4.408      0.000       0.645       1.677\n",
       "risk_score2      -1.1091      0.328     -3.384      0.001      -1.751      -0.467\n",
       "interaction_1     0.7902      0.494      1.599      0.110      -0.178       1.759\n",
       "interaction_2     1.1309      0.220      5.137      0.000       0.699       1.562\n",
       "transaction       0.0107      0.005      1.987      0.047       0.000       0.021\n",
       "population       -0.2704      0.198     -1.369      0.171      -0.658       0.117\n",
       "sc_control       -0.5507      0.415     -1.327      0.185      -1.364       0.263\n",
       "=================================================================================\n",
       "\"\"\""
      ]
     },
     "execution_count": 80,
     "metadata": {},
     "output_type": "execute_result"
    }
   ],
   "source": [
    "# Instatiating\n",
    "logreg2= sm.Logit(y, X)\n",
    "\n",
    "# Fitting\n",
    "logreg2_results = logreg2.fit()\n",
    "\n",
    "# Priting the results\n",
    "logreg2_results.summary()"
   ]
  },
  {
   "cell_type": "markdown",
   "id": "14da3eaf",
   "metadata": {
    "slideshow": {
     "slide_type": "skip"
    }
   },
   "source": [
    "Not all variables are statistically relevant, but we will keep them all to try to capture the greatest amount of variance. "
   ]
  },
  {
   "cell_type": "markdown",
   "id": "83c9bbae",
   "metadata": {
    "slideshow": {
     "slide_type": "skip"
    }
   },
   "source": [
    "**Calculating odds ratios**"
   ]
  },
  {
   "cell_type": "code",
   "execution_count": 81,
   "id": "1a4bdae3",
   "metadata": {
    "slideshow": {
     "slide_type": "skip"
    }
   },
   "outputs": [],
   "source": [
    "# defining the sigmoid curve manually\n",
    "def sigmoid_curve(x):\n",
    "    return 1 / (1 + np.exp(-x)) # exp(x) is the function to calculate e^x"
   ]
  },
  {
   "cell_type": "code",
   "execution_count": 82,
   "id": "ee728445",
   "metadata": {
    "slideshow": {
     "slide_type": "skip"
    }
   },
   "outputs": [
    {
     "data": {
      "text/plain": [
       "const           -2.702559\n",
       "risk_score1      1.161022\n",
       "risk_score2     -1.109090\n",
       "interaction_1    0.790201\n",
       "interaction_2    1.130913\n",
       "transaction      0.010729\n",
       "population      -0.270434\n",
       "sc_control      -0.550720\n",
       "dtype: float64"
      ]
     },
     "execution_count": 82,
     "metadata": {},
     "output_type": "execute_result"
    }
   ],
   "source": [
    "logreg2_results.params "
   ]
  },
  {
   "cell_type": "markdown",
   "id": "990ce35f",
   "metadata": {
    "slideshow": {
     "slide_type": "skip"
    }
   },
   "source": [
    "**Explaining some of the coeficcients**"
   ]
  },
  {
   "cell_type": "code",
   "execution_count": 83,
   "id": "cd629085",
   "metadata": {
    "slideshow": {
     "slide_type": "skip"
    }
   },
   "outputs": [],
   "source": [
    "beta0 = logreg2_results.params[0]\n",
    "beta1 = logreg2_results.params[1]\n",
    "beta2 = logreg2_results.params[2]\n",
    "beta3 = logreg2_results.params[3]\n",
    "beta4 = logreg2_results.params[4]\n",
    "beta5 = logreg2_results.params[5]\n",
    "beta6 = logreg2_results.params[6]\n",
    "beta7 = logreg2_results.params[7]"
   ]
  },
  {
   "cell_type": "markdown",
   "id": "a423f14c",
   "metadata": {
    "slideshow": {
     "slide_type": "skip"
    }
   },
   "source": [
    "**For the constant**"
   ]
  },
  {
   "cell_type": "code",
   "execution_count": 84,
   "id": "e89ab00d",
   "metadata": {
    "slideshow": {
     "slide_type": "skip"
    }
   },
   "outputs": [
    {
     "data": {
      "text/plain": [
       "0.06703372680294133"
      ]
     },
     "execution_count": 84,
     "metadata": {},
     "output_type": "execute_result"
    }
   ],
   "source": [
    "np.exp(beta0)"
   ]
  },
  {
   "cell_type": "markdown",
   "id": "054319e3",
   "metadata": {
    "slideshow": {
     "slide_type": "skip"
    }
   },
   "source": [
    "The odds of a transaction being bad are 0.06. Let's plug this into the sigmoid curve to get the probability. "
   ]
  },
  {
   "cell_type": "code",
   "execution_count": 85,
   "id": "a8c5a924",
   "metadata": {
    "slideshow": {
     "slide_type": "skip"
    }
   },
   "outputs": [],
   "source": [
    "probability_of_badtransaction = sigmoid_curve(beta0)"
   ]
  },
  {
   "cell_type": "code",
   "execution_count": 86,
   "id": "fe6828d5",
   "metadata": {
    "slideshow": {
     "slide_type": "skip"
    }
   },
   "outputs": [
    {
     "data": {
      "text/plain": [
       "0.06282250046939804"
      ]
     },
     "execution_count": 86,
     "metadata": {},
     "output_type": "execute_result"
    }
   ],
   "source": [
    "probability_of_badtransaction"
   ]
  },
  {
   "cell_type": "markdown",
   "id": "81a3e8f7",
   "metadata": {
    "slideshow": {
     "slide_type": "skip"
    }
   },
   "source": [
    "The probability of a bad transaction according to this model is 0.06. Yet we know that 18% of the transactions are bad. "
   ]
  },
  {
   "cell_type": "markdown",
   "id": "10185154",
   "metadata": {
    "slideshow": {
     "slide_type": "skip"
    }
   },
   "source": [
    "**For risk score 1**"
   ]
  },
  {
   "cell_type": "code",
   "execution_count": 87,
   "id": "7916b73b",
   "metadata": {
    "slideshow": {
     "slide_type": "skip"
    }
   },
   "outputs": [
    {
     "data": {
      "text/plain": [
       "3.1931957214383577"
      ]
     },
     "execution_count": 87,
     "metadata": {},
     "output_type": "execute_result"
    }
   ],
   "source": [
    "np.exp(beta1)"
   ]
  },
  {
   "cell_type": "markdown",
   "id": "316f9449",
   "metadata": {
    "slideshow": {
     "slide_type": "skip"
    }
   },
   "source": [
    "If risk_score1 is 1, the odds of the transaction being bad increase 3.19 times"
   ]
  },
  {
   "cell_type": "code",
   "execution_count": 88,
   "id": "19083a74",
   "metadata": {
    "slideshow": {
     "slide_type": "skip"
    }
   },
   "outputs": [],
   "source": [
    "linear_combo=beta0+1*beta1"
   ]
  },
  {
   "cell_type": "code",
   "execution_count": 89,
   "id": "623e4960",
   "metadata": {
    "slideshow": {
     "slide_type": "skip"
    }
   },
   "outputs": [],
   "source": [
    "probability_of_badtransaction = sigmoid_curve(linear_combo)"
   ]
  },
  {
   "cell_type": "code",
   "execution_count": 90,
   "id": "da95415e",
   "metadata": {
    "slideshow": {
     "slide_type": "skip"
    }
   },
   "outputs": [
    {
     "data": {
      "text/plain": [
       "0.17631192336540896"
      ]
     },
     "execution_count": 90,
     "metadata": {},
     "output_type": "execute_result"
    }
   ],
   "source": [
    "probability_of_badtransaction"
   ]
  },
  {
   "cell_type": "markdown",
   "id": "ace5f747",
   "metadata": {
    "slideshow": {
     "slide_type": "skip"
    }
   },
   "source": [
    "By itself, if score1 is risky, the probability of being a bad transaction is 0.176. This is not an auspicious result. A lot of the variance is not being picked up by this score. "
   ]
  },
  {
   "cell_type": "markdown",
   "id": "31a33447",
   "metadata": {
    "slideshow": {
     "slide_type": "skip"
    }
   },
   "source": [
    "**For risk score 2**"
   ]
  },
  {
   "cell_type": "code",
   "execution_count": 91,
   "id": "571e86d8",
   "metadata": {
    "slideshow": {
     "slide_type": "skip"
    }
   },
   "outputs": [
    {
     "data": {
      "text/plain": [
       "0.32985896157087574"
      ]
     },
     "execution_count": 91,
     "metadata": {},
     "output_type": "execute_result"
    }
   ],
   "source": [
    "np.exp(beta2)"
   ]
  },
  {
   "cell_type": "markdown",
   "id": "4c84aa62",
   "metadata": {
    "slideshow": {
     "slide_type": "skip"
    }
   },
   "source": [
    "If risk_score2 is 1, the odds increase to 0.32"
   ]
  },
  {
   "cell_type": "code",
   "execution_count": 92,
   "id": "af86d497",
   "metadata": {
    "slideshow": {
     "slide_type": "skip"
    }
   },
   "outputs": [
    {
     "data": {
      "text/plain": [
       "0.021633326419382204"
      ]
     },
     "execution_count": 92,
     "metadata": {},
     "output_type": "execute_result"
    }
   ],
   "source": [
    "linear_combo=beta0+1*beta2\n",
    "probability_of_badtransaction = sigmoid_curve(linear_combo)\n",
    "probability_of_badtransaction"
   ]
  },
  {
   "cell_type": "markdown",
   "id": "ceea2fd9",
   "metadata": {
    "slideshow": {
     "slide_type": "skip"
    }
   },
   "source": [
    "By itself, if score2 is risky, the probability of being a bad transaction is 0.02. Hence, score 2 does not tell us much by itself."
   ]
  },
  {
   "cell_type": "markdown",
   "id": "7035b5d6",
   "metadata": {
    "slideshow": {
     "slide_type": "skip"
    }
   },
   "source": [
    "**For interaction term 1**"
   ]
  },
  {
   "cell_type": "code",
   "execution_count": 93,
   "id": "56e759eb",
   "metadata": {
    "slideshow": {
     "slide_type": "skip"
    }
   },
   "outputs": [
    {
     "data": {
      "text/plain": [
       "0.12871610247384355"
      ]
     },
     "execution_count": 93,
     "metadata": {},
     "output_type": "execute_result"
    }
   ],
   "source": [
    "linear_combo=beta0+1*beta3\n",
    "probability_of_badtransaction = sigmoid_curve(linear_combo)\n",
    "probability_of_badtransaction"
   ]
  },
  {
   "cell_type": "markdown",
   "id": "0090a4d2",
   "metadata": {
    "slideshow": {
     "slide_type": "skip"
    }
   },
   "source": [
    "By itself, if the interaction term considers the client risky, the probability of having a bad transaction is 0.129"
   ]
  },
  {
   "cell_type": "markdown",
   "id": "ff86e94e",
   "metadata": {
    "slideshow": {
     "slide_type": "skip"
    }
   },
   "source": [
    "**For the average size transaction**"
   ]
  },
  {
   "cell_type": "code",
   "execution_count": 94,
   "id": "9c32102b",
   "metadata": {
    "slideshow": {
     "slide_type": "skip"
    }
   },
   "outputs": [
    {
     "data": {
      "text/plain": [
       "0.13034741165325353"
      ]
     },
     "execution_count": 94,
     "metadata": {},
     "output_type": "execute_result"
    }
   ],
   "source": [
    "linear_combo=beta0+75*beta5\n",
    "probability_of_badtransaction = sigmoid_curve(linear_combo)\n",
    "probability_of_badtransaction"
   ]
  },
  {
   "cell_type": "markdown",
   "id": "c588156d",
   "metadata": {
    "slideshow": {
     "slide_type": "skip"
    }
   },
   "source": [
    "By itself, an average size transaction has a probability of 0.13 of being bad. "
   ]
  },
  {
   "cell_type": "code",
   "execution_count": 95,
   "id": "129a35a8",
   "metadata": {
    "slideshow": {
     "slide_type": "skip"
    }
   },
   "outputs": [
    {
     "data": {
      "text/plain": [
       "0.32169371789551177"
      ]
     },
     "execution_count": 95,
     "metadata": {},
     "output_type": "execute_result"
    }
   ],
   "source": [
    "##Grading the whole model. \n",
    "linear_combo=beta0+1*beta1+1*beta2+1*beta3+1*beta4+75*beta5+1*beta6+1*beta7\n",
    "probability_of_badtransaction = sigmoid_curve(linear_combo)\n",
    "probability_of_badtransaction"
   ]
  },
  {
   "cell_type": "markdown",
   "id": "9677c660",
   "metadata": {
    "slideshow": {
     "slide_type": "skip"
    }
   },
   "source": [
    "For an average size transaction with all the risk markers on, the probability of it being bad is 0.32. Let see if we can fix the false negative problems by adjusting the threshold in the model towards this amount.  "
   ]
  },
  {
   "cell_type": "code",
   "execution_count": 96,
   "id": "fb773612",
   "metadata": {
    "slideshow": {
     "slide_type": "skip"
    }
   },
   "outputs": [],
   "source": [
    "## Getting the probability predictions for each observation \n",
    "model_predictions_prob=logreg2_results.predict(X)"
   ]
  },
  {
   "cell_type": "code",
   "execution_count": 97,
   "id": "ac37af0e",
   "metadata": {
    "slideshow": {
     "slide_type": "skip"
    }
   },
   "outputs": [],
   "source": [
    "## Setting the threshold at 0.5 and creating a binary predictions column\n",
    "model_predictions_binary = np.where(model_predictions_prob>0.5,1,0)"
   ]
  },
  {
   "cell_type": "code",
   "execution_count": 98,
   "id": "cf266bd8",
   "metadata": {
    "slideshow": {
     "slide_type": "skip"
    }
   },
   "outputs": [
    {
     "data": {
      "text/plain": [
       "50"
      ]
     },
     "execution_count": 98,
     "metadata": {},
     "output_type": "execute_result"
    }
   ],
   "source": [
    "model_predictions_binary.sum()"
   ]
  },
  {
   "cell_type": "markdown",
   "id": "81d3231a",
   "metadata": {
    "slideshow": {
     "slide_type": "skip"
    }
   },
   "source": [
    "As we can see the model only predicts 50 bad transactions, when we know there are 157.If we decrease the thresold, it will tend to capture some more of those false negatives.  "
   ]
  },
  {
   "cell_type": "code",
   "execution_count": 100,
   "id": "f7bb7928",
   "metadata": {
    "slideshow": {
     "slide_type": "skip"
    }
   },
   "outputs": [
    {
     "name": "stdout",
     "output_type": "stream",
     "text": [
      "The used threshold is 0.5\n",
      "              precision    recall  f1-score   support\n",
      "\n",
      "           0       0.83      0.96      0.89       671\n",
      "           1       0.50      0.16      0.25       153\n",
      "\n",
      "    accuracy                           0.81       824\n",
      "   macro avg       0.67      0.56      0.57       824\n",
      "weighted avg       0.77      0.81      0.77       824\n",
      "\n",
      "The used threshold is 0.45\n",
      "              precision    recall  f1-score   support\n",
      "\n",
      "           0       0.84      0.95      0.89       671\n",
      "           1       0.49      0.20      0.29       153\n",
      "\n",
      "    accuracy                           0.81       824\n",
      "   macro avg       0.67      0.58      0.59       824\n",
      "weighted avg       0.78      0.81      0.78       824\n",
      "\n",
      "The used threshold is 0.4\n",
      "              precision    recall  f1-score   support\n",
      "\n",
      "           0       0.84      0.95      0.89       671\n",
      "           1       0.48      0.21      0.29       153\n",
      "\n",
      "    accuracy                           0.81       824\n",
      "   macro avg       0.66      0.58      0.59       824\n",
      "weighted avg       0.77      0.81      0.78       824\n",
      "\n",
      "The used threshold is 0.35\n",
      "              precision    recall  f1-score   support\n",
      "\n",
      "           0       0.85      0.92      0.88       671\n",
      "           1       0.45      0.28      0.35       153\n",
      "\n",
      "    accuracy                           0.80       824\n",
      "   macro avg       0.65      0.60      0.61       824\n",
      "weighted avg       0.77      0.80      0.78       824\n",
      "\n",
      "The used threshold is 0.3\n",
      "              precision    recall  f1-score   support\n",
      "\n",
      "           0       0.86      0.88      0.87       671\n",
      "           1       0.42      0.39      0.41       153\n",
      "\n",
      "    accuracy                           0.79       824\n",
      "   macro avg       0.64      0.63      0.64       824\n",
      "weighted avg       0.78      0.79      0.78       824\n",
      "\n",
      "The used threshold is 0.25\n",
      "              precision    recall  f1-score   support\n",
      "\n",
      "           0       0.89      0.83      0.85       671\n",
      "           1       0.41      0.54      0.47       153\n",
      "\n",
      "    accuracy                           0.77       824\n",
      "   macro avg       0.65      0.68      0.66       824\n",
      "weighted avg       0.80      0.77      0.78       824\n",
      "\n",
      "The used threshold is 0.2\n",
      "              precision    recall  f1-score   support\n",
      "\n",
      "           0       0.89      0.78      0.83       671\n",
      "           1       0.37      0.56      0.45       153\n",
      "\n",
      "    accuracy                           0.74       824\n",
      "   macro avg       0.63      0.67      0.64       824\n",
      "weighted avg       0.79      0.74      0.76       824\n",
      "\n",
      "The used threshold is 0.15\n",
      "              precision    recall  f1-score   support\n",
      "\n",
      "           0       0.89      0.66      0.76       671\n",
      "           1       0.30      0.65      0.41       153\n",
      "\n",
      "    accuracy                           0.66       824\n",
      "   macro avg       0.60      0.66      0.59       824\n",
      "weighted avg       0.78      0.66      0.70       824\n",
      "\n"
     ]
    },
    {
     "data": {
      "image/png": "[encoded data removed]",
      "text/plain": [
       "<Figure size 640x480 with 2 Axes>"
      ]
     },
     "metadata": {},
     "output_type": "display_data"
    },
    {
     "data": {
      "image/png": "[encoded data removed]",
      "text/plain": [
       "<Figure size 640x480 with 2 Axes>"
      ]
     },
     "metadata": {},
     "output_type": "display_data"
    },
    {
     "data": {
      "image/png": "[encoded data removed]",
      "text/plain": [
       "<Figure size 640x480 with 2 Axes>"
      ]
     },
     "metadata": {},
     "output_type": "display_data"
    },
    {
     "data": {
      "image/png": "[encoded data removed]",
      "text/plain": [
       "<Figure size 640x480 with 2 Axes>"
      ]
     },
     "metadata": {},
     "output_type": "display_data"
    },
    {
     "data": {
      "image/png": "[encoded data removed]",
      "text/plain": [
       "<Figure size 640x480 with 2 Axes>"
      ]
     },
     "metadata": {},
     "output_type": "display_data"
    },
    {
     "data": {
      "image/png": "[encoded data removed]",
      "text/plain": [
       "<Figure size 640x480 with 2 Axes>"
      ]
     },
     "metadata": {},
     "output_type": "display_data"
    },
    {
     "data": {
      "image/png": "[encoded data removed]",
      "text/plain": [
       "<Figure size 640x480 with 2 Axes>"
      ]
     },
     "metadata": {},
     "output_type": "display_data"
    },
    {
     "data": {
      "image/png": "[encoded data removed]",
      "text/plain": [
       "<Figure size 640x480 with 2 Axes>"
      ]
     },
     "metadata": {},
     "output_type": "display_data"
    }
   ],
   "source": [
    "## creating a for loop to optimize the recall \n",
    "threshold=[0.50, 0.45, 0.40, 0.35,0.30, 0.25, 0.20, 0.15]\n",
    "\n",
    "for i in threshold: \n",
    "    model_predictions_binary = np.where(model_predictions_prob>i,1,0)\n",
    "    cm_val3 = confusion_matrix(y, model_predictions_binary)\n",
    "    ConfusionMatrixDisplay(cm_val3).plot() \n",
    "    print(f'The used threshold is {i}')\n",
    "    print(classification_report(y, model_predictions_binary))"
   ]
  },
  {
   "cell_type": "markdown",
   "id": "be8988ea",
   "metadata": {
    "slideshow": {
     "slide_type": "skip"
    }
   },
   "source": [
    "Recall continues to increase as the threshold is lowered, though false positives are also going up. So losses are diminishing but so is revenue. Hence, the business side will have decide on this trade-off as false positives will alineate potential future customers. "
   ]
  },
  {
   "cell_type": "markdown",
   "id": "14d66d4b",
   "metadata": {
    "slideshow": {
     "slide_type": "skip"
    }
   },
   "source": [
    "The threshold of 0.25 produces a similar recall to the interaction 1 model. Let's use that to estimate profits. "
   ]
  },
  {
   "cell_type": "markdown",
   "id": "0c824697",
   "metadata": {
    "slideshow": {
     "slide_type": "skip"
    }
   },
   "source": [
    "#### Estimating profits for 0.25 threshold"
   ]
  },
  {
   "cell_type": "code",
   "execution_count": 149,
   "id": "ca1ce621",
   "metadata": {
    "slideshow": {
     "slide_type": "slide"
    }
   },
   "outputs": [
    {
     "name": "stdout",
     "output_type": "stream",
     "text": [
      "The used threshold is 0.25\n",
      "              precision    recall  f1-score   support\n",
      "\n",
      "           0       0.89      0.83      0.85       671\n",
      "           1       0.41      0.54      0.47       153\n",
      "\n",
      "    accuracy                           0.77       824\n",
      "   macro avg       0.65      0.68      0.66       824\n",
      "weighted avg       0.80      0.77      0.78       824\n",
      "\n"
     ]
    },
    {
     "data": {
      "image/png": "[encoded data removed]",
      "text/plain": [
       "<Figure size 640x480 with 2 Axes>"
      ]
     },
     "metadata": {},
     "output_type": "display_data"
    }
   ],
   "source": [
    "model_predictions_binary = np.where(model_predictions_prob>0.25,1,0)\n",
    "cm_val3 = confusion_matrix(y, model_predictions_binary)\n",
    "ConfusionMatrixDisplay(cm_val3).plot() \n",
    "print(f'The used threshold is 0.25')\n",
    "print(classification_report(y, model_predictions_binary))"
   ]
  },
  {
   "cell_type": "code",
   "execution_count": 150,
   "id": "85979112",
   "metadata": {
    "slideshow": {
     "slide_type": "skip"
    }
   },
   "outputs": [],
   "source": [
    "## incorporating the predictions in the dataframe for threshold 0.25\n",
    "model_predictions_binary = np.where(model_predictions_prob>0.25,1,0)\n",
    "df['predictions_log']=model_predictions_binary"
   ]
  },
  {
   "cell_type": "code",
   "execution_count": 151,
   "id": "6084d350",
   "metadata": {
    "slideshow": {
     "slide_type": "skip"
    }
   },
   "outputs": [
    {
     "name": "stdout",
     "output_type": "stream",
     "text": [
      "<class 'pandas.core.frame.DataFrame'>\n",
      "RangeIndex: 824 entries, 0 to 823\n",
      "Data columns (total 15 columns):\n",
      " #   Column           Non-Null Count  Dtype \n",
      "---  ------           --------------  ----- \n",
      " 0   score_1          824 non-null    object\n",
      " 1   risk_score1      824 non-null    int64 \n",
      " 2   score_2          824 non-null    object\n",
      " 3   risk_score2      824 non-null    int64 \n",
      " 4   interaction_1    824 non-null    int64 \n",
      " 5   interaction_2    824 non-null    int64 \n",
      " 6   transaction      824 non-null    int64 \n",
      " 7   bad_transaction  824 non-null    int64 \n",
      " 8   state            823 non-null    object\n",
      " 9   population       824 non-null    int64 \n",
      " 10  sc_control       824 non-null    int64 \n",
      " 11  predictions_log  824 non-null    int32 \n",
      " 12  predictions      824 non-null    int32 \n",
      " 13  pred_prob_knn    824 non-null    int64 \n",
      " 14  pred_prob_knn2   824 non-null    int64 \n",
      "dtypes: int32(2), int64(10), object(3)\n",
      "memory usage: 90.2+ KB\n"
     ]
    }
   ],
   "source": [
    "df.info()"
   ]
  },
  {
   "cell_type": "code",
   "execution_count": 152,
   "id": "e5e5807d",
   "metadata": {
    "slideshow": {
     "slide_type": "skip"
    }
   },
   "outputs": [
    {
     "data": {
      "text/plain": [
       "199"
      ]
     },
     "execution_count": 152,
     "metadata": {},
     "output_type": "execute_result"
    }
   ],
   "source": [
    "df.predictions_log.sum()"
   ]
  },
  {
   "cell_type": "code",
   "execution_count": 153,
   "id": "5959ca53",
   "metadata": {
    "slideshow": {
     "slide_type": "skip"
    }
   },
   "outputs": [],
   "source": [
    "tndf4=df[(df['predictions_log']==0) & (df['bad_transaction']==0)]"
   ]
  },
  {
   "cell_type": "code",
   "execution_count": 154,
   "id": "d3f24ea0",
   "metadata": {
    "slideshow": {
     "slide_type": "skip"
    }
   },
   "outputs": [
    {
     "data": {
      "text/plain": [
       "(554, 15)"
      ]
     },
     "execution_count": 154,
     "metadata": {},
     "output_type": "execute_result"
    }
   ],
   "source": [
    "tndf4.shape"
   ]
  },
  {
   "cell_type": "code",
   "execution_count": 155,
   "id": "cdf970db",
   "metadata": {
    "slideshow": {
     "slide_type": "skip"
    }
   },
   "outputs": [],
   "source": [
    "## Calculating the fn dataframe\n",
    "fndf4=df[(df['predictions_log']==0) & (df['bad_transaction']==1)]"
   ]
  },
  {
   "cell_type": "code",
   "execution_count": 156,
   "id": "81461a74",
   "metadata": {
    "slideshow": {
     "slide_type": "skip"
    }
   },
   "outputs": [],
   "source": [
    "## Estimating revenue\n",
    "Revenue4=0.05*(tndf4['transaction'].sum())"
   ]
  },
  {
   "cell_type": "code",
   "execution_count": 157,
   "id": "dac0b37c",
   "metadata": {
    "slideshow": {
     "slide_type": "skip"
    }
   },
   "outputs": [
    {
     "data": {
      "text/plain": [
       "2032.3000000000002"
      ]
     },
     "execution_count": 157,
     "metadata": {},
     "output_type": "execute_result"
    }
   ],
   "source": [
    "Revenue4"
   ]
  },
  {
   "cell_type": "code",
   "execution_count": 158,
   "id": "7e149f49",
   "metadata": {
    "slideshow": {
     "slide_type": "skip"
    }
   },
   "outputs": [],
   "source": [
    "loss4=(fndf4['transaction'].sum())"
   ]
  },
  {
   "cell_type": "code",
   "execution_count": 159,
   "id": "8046d283",
   "metadata": {
    "slideshow": {
     "slide_type": "skip"
    }
   },
   "outputs": [
    {
     "data": {
      "text/plain": [
       "5317"
      ]
     },
     "execution_count": 159,
     "metadata": {},
     "output_type": "execute_result"
    }
   ],
   "source": [
    "loss4"
   ]
  },
  {
   "cell_type": "code",
   "execution_count": 160,
   "id": "716848a3",
   "metadata": {
    "slideshow": {
     "slide_type": "skip"
    }
   },
   "outputs": [],
   "source": [
    "Profit4=Revenue4-loss4"
   ]
  },
  {
   "cell_type": "code",
   "execution_count": 161,
   "id": "50a9321e",
   "metadata": {
    "slideshow": {
     "slide_type": "skip"
    }
   },
   "outputs": [
    {
     "data": {
      "text/plain": [
       "-3284.7"
      ]
     },
     "execution_count": 161,
     "metadata": {},
     "output_type": "execute_result"
    }
   ],
   "source": [
    "Profit4"
   ]
  },
  {
   "cell_type": "markdown",
   "id": "dafd3e18",
   "metadata": {
    "slideshow": {
     "slide_type": "slide"
    }
   },
   "source": [
    "**Business metrics:**  \n",
    "- Income from good transactions: 2032\n",
    "- Loss from bad transactions:   -5317\n",
    "- **Net loss:                     -3284.70**\n",
    "\n",
    "This is a better model than interaction_2, as the loss is smallest, USD 3284.70. Income is slightly better in this case, while losses are similar. "
   ]
  },
  {
   "cell_type": "markdown",
   "id": "231bc1be",
   "metadata": {
    "slideshow": {
     "slide_type": "slide"
    }
   },
   "source": [
    "## Model 5: KNN"
   ]
  },
  {
   "cell_type": "code",
   "execution_count": 162,
   "id": "78272c68",
   "metadata": {
    "slideshow": {
     "slide_type": "skip"
    }
   },
   "outputs": [],
   "source": [
    "from sklearn.neighbors import KNeighborsClassifier"
   ]
  },
  {
   "cell_type": "code",
   "execution_count": 163,
   "id": "8bf44e9b",
   "metadata": {
    "slideshow": {
     "slide_type": "skip"
    }
   },
   "outputs": [
    {
     "data": {
      "image/png": "[encoded data removed]",
      "text/plain": [
       "<Figure size 640x480 with 1 Axes>"
      ]
     },
     "metadata": {},
     "output_type": "display_data"
    }
   ],
   "source": [
    "## K-folds cross validation for the Number of Neighbors parameter\n",
    "\n",
    "# Define our list of k values to try out. We'll try 15 values. The dataset is small. \n",
    "k_values = list(range(1, 15,))\n",
    "\n",
    "# Create a list to hold our cross-validation scores\n",
    "cv_scores = []\n",
    "\n",
    "for k in k_values:\n",
    "    knn = KNeighborsClassifier(n_neighbors=k)\n",
    "    scores = cross_val_score(knn, X_scaled, y, scoring='recall', cv=5)\n",
    "    cv_scores.append(np.mean(scores))\n",
    "    \n",
    "plt.figure()\n",
    "plt.plot(k_values, cv_scores, label=\"mean score\")\n",
    "plt.xlabel('K - Number of neighbors')\n",
    "plt.ylabel('Recall')\n",
    "plt.title(\"Recall vs number of neighbors\")\n",
    "plt.show()    "
   ]
  },
  {
   "cell_type": "markdown",
   "id": "7ee0bd29",
   "metadata": {
    "slideshow": {
     "slide_type": "skip"
    }
   },
   "source": [
    "The highest recall is achieved at 5 neighbors. We'll run the model with this parameter. "
   ]
  },
  {
   "cell_type": "code",
   "execution_count": 164,
   "id": "04f269ec",
   "metadata": {
    "slideshow": {
     "slide_type": "skip"
    }
   },
   "outputs": [
    {
     "data": {
      "text/html": [
       "<style>#sk-container-id-3 {color: black;background-color: white;}#sk-container-id-3 pre{padding: 0;}#sk-container-id-3 div.sk-toggleable {background-color: white;}#sk-container-id-3 label.sk-toggleable__label {cursor: pointer;display: block;width: 100%;margin-bottom: 0;padding: 0.3em;box-sizing: border-box;text-align: center;}#sk-container-id-3 label.sk-toggleable__label-arrow:before {content: \"▸\";float: left;margin-right: 0.25em;color: #696969;}#sk-container-id-3 label.sk-toggleable__label-arrow:hover:before {color: black;}#sk-container-id-3 div.sk-estimator:hover label.sk-toggleable__label-arrow:before {color: black;}#sk-container-id-3 div.sk-toggleable__content {max-height: 0;max-width: 0;overflow: hidden;text-align: left;background-color: #f0f8ff;}#sk-container-id-3 div.sk-toggleable__content pre {margin: 0.2em;color: black;border-radius: 0.25em;background-color: #f0f8ff;}#sk-container-id-3 input.sk-toggleable__control:checked~div.sk-toggleable__content {max-height: 200px;max-width: 100%;overflow: auto;}#sk-container-id-3 input.sk-toggleable__control:checked~label.sk-toggleable__label-arrow:before {content: \"▾\";}#sk-container-id-3 div.sk-estimator input.sk-toggleable__control:checked~label.sk-toggleable__label {background-color: #d4ebff;}#sk-container-id-3 div.sk-label input.sk-toggleable__control:checked~label.sk-toggleable__label {background-color: #d4ebff;}#sk-container-id-3 input.sk-hidden--visually {border: 0;clip: rect(1px 1px 1px 1px);clip: rect(1px, 1px, 1px, 1px);height: 1px;margin: -1px;overflow: hidden;padding: 0;position: absolute;width: 1px;}#sk-container-id-3 div.sk-estimator {font-family: monospace;background-color: #f0f8ff;border: 1px dotted black;border-radius: 0.25em;box-sizing: border-box;margin-bottom: 0.5em;}#sk-container-id-3 div.sk-estimator:hover {background-color: #d4ebff;}#sk-container-id-3 div.sk-parallel-item::after {content: \"\";width: 100%;border-bottom: 1px solid gray;flex-grow: 1;}#sk-container-id-3 div.sk-label:hover label.sk-toggleable__label {background-color: #d4ebff;}#sk-container-id-3 div.sk-serial::before {content: \"\";position: absolute;border-left: 1px solid gray;box-sizing: border-box;top: 0;bottom: 0;left: 50%;z-index: 0;}#sk-container-id-3 div.sk-serial {display: flex;flex-direction: column;align-items: center;background-color: white;padding-right: 0.2em;padding-left: 0.2em;position: relative;}#sk-container-id-3 div.sk-item {position: relative;z-index: 1;}#sk-container-id-3 div.sk-parallel {display: flex;align-items: stretch;justify-content: center;background-color: white;position: relative;}#sk-container-id-3 div.sk-item::before, #sk-container-id-3 div.sk-parallel-item::before {content: \"\";position: absolute;border-left: 1px solid gray;box-sizing: border-box;top: 0;bottom: 0;left: 50%;z-index: -1;}#sk-container-id-3 div.sk-parallel-item {display: flex;flex-direction: column;z-index: 1;position: relative;background-color: white;}#sk-container-id-3 div.sk-parallel-item:first-child::after {align-self: flex-end;width: 50%;}#sk-container-id-3 div.sk-parallel-item:last-child::after {align-self: flex-start;width: 50%;}#sk-container-id-3 div.sk-parallel-item:only-child::after {width: 0;}#sk-container-id-3 div.sk-dashed-wrapped {border: 1px dashed gray;margin: 0 0.4em 0.5em 0.4em;box-sizing: border-box;padding-bottom: 0.4em;background-color: white;}#sk-container-id-3 div.sk-label label {font-family: monospace;font-weight: bold;display: inline-block;line-height: 1.2em;}#sk-container-id-3 div.sk-label-container {text-align: center;}#sk-container-id-3 div.sk-container {/* jupyter's `normalize.less` sets `[hidden] { display: none; }` but bootstrap.min.css set `[hidden] { display: none !important; }` so we also need the `!important` here to be able to override the default hidden behavior on the sphinx rendered scikit-learn.org. See: https://github.com/scikit-learn/scikit-learn/issues/21755 */display: inline-block !important;position: relative;}#sk-container-id-3 div.sk-text-repr-fallback {display: none;}</style><div id=\"sk-container-id-3\" class=\"sk-top-container\"><div class=\"sk-text-repr-fallback\"><pre>KNeighborsClassifier()</pre><b>In a Jupyter environment, please rerun this cell to show the HTML representation or trust the notebook. <br />On GitHub, the HTML representation is unable to render, please try loading this page with nbviewer.org.</b></div><div class=\"sk-container\" hidden><div class=\"sk-item\"><div class=\"sk-estimator sk-toggleable\"><input class=\"sk-toggleable__control sk-hidden--visually\" id=\"sk-estimator-id-3\" type=\"checkbox\" checked><label for=\"sk-estimator-id-3\" class=\"sk-toggleable__label sk-toggleable__label-arrow\">KNeighborsClassifier</label><div class=\"sk-toggleable__content\"><pre>KNeighborsClassifier()</pre></div></div></div></div></div>"
      ],
      "text/plain": [
       "KNeighborsClassifier()"
      ]
     },
     "execution_count": 164,
     "metadata": {},
     "output_type": "execute_result"
    }
   ],
   "source": [
    "knn = KNeighborsClassifier(n_neighbors=5)\n",
    "knn.fit(X_scaled, y)"
   ]
  },
  {
   "cell_type": "code",
   "execution_count": 165,
   "id": "76ac6e0d",
   "metadata": {
    "slideshow": {
     "slide_type": "skip"
    }
   },
   "outputs": [],
   "source": [
    "## generating predictions\n",
    "y_pred_knn = knn.predict(X_scaled)"
   ]
  },
  {
   "cell_type": "code",
   "execution_count": 166,
   "id": "a2dd6199",
   "metadata": {
    "slideshow": {
     "slide_type": "skip"
    }
   },
   "outputs": [],
   "source": [
    "## including them in the df\n",
    "df.loc[:,'pred_prob_knn']=y_pred_knn"
   ]
  },
  {
   "cell_type": "code",
   "execution_count": 167,
   "id": "fec4e98a",
   "metadata": {
    "slideshow": {
     "slide_type": "skip"
    }
   },
   "outputs": [
    {
     "name": "stdout",
     "output_type": "stream",
     "text": [
      "<class 'pandas.core.frame.DataFrame'>\n",
      "RangeIndex: 824 entries, 0 to 823\n",
      "Data columns (total 15 columns):\n",
      " #   Column           Non-Null Count  Dtype \n",
      "---  ------           --------------  ----- \n",
      " 0   score_1          824 non-null    object\n",
      " 1   risk_score1      824 non-null    int64 \n",
      " 2   score_2          824 non-null    object\n",
      " 3   risk_score2      824 non-null    int64 \n",
      " 4   interaction_1    824 non-null    int64 \n",
      " 5   interaction_2    824 non-null    int64 \n",
      " 6   transaction      824 non-null    int64 \n",
      " 7   bad_transaction  824 non-null    int64 \n",
      " 8   state            823 non-null    object\n",
      " 9   population       824 non-null    int64 \n",
      " 10  sc_control       824 non-null    int64 \n",
      " 11  predictions_log  824 non-null    int32 \n",
      " 12  predictions      824 non-null    int32 \n",
      " 13  pred_prob_knn    824 non-null    int64 \n",
      " 14  pred_prob_knn2   824 non-null    int64 \n",
      "dtypes: int32(2), int64(10), object(3)\n",
      "memory usage: 90.2+ KB\n"
     ]
    }
   ],
   "source": [
    "df.info()"
   ]
  },
  {
   "cell_type": "code",
   "execution_count": 170,
   "id": "2562afd8",
   "metadata": {
    "slideshow": {
     "slide_type": "slide"
    }
   },
   "outputs": [
    {
     "name": "stdout",
     "output_type": "stream",
     "text": [
      "KNN estimation using 5 neighbors\n",
      "              precision    recall  f1-score   support\n",
      "\n",
      "           0       0.86      0.96      0.91       671\n",
      "           1       0.64      0.31      0.42       153\n",
      "\n",
      "    accuracy                           0.84       824\n",
      "   macro avg       0.75      0.64      0.66       824\n",
      "weighted avg       0.82      0.84      0.82       824\n",
      "\n"
     ]
    },
    {
     "data": {
      "image/png": "[encoded data removed]",
      "text/plain": [
       "<Figure size 640x480 with 2 Axes>"
      ]
     },
     "metadata": {},
     "output_type": "display_data"
    }
   ],
   "source": [
    "# generando la matriz de confusion \n",
    "cf_matrix = confusion_matrix(df.bad_transaction, df.pred_prob_knn)\n",
    "\n",
    "# presentando la matriz\n",
    "ConfusionMatrixDisplay(cf_matrix).plot(cmap='Purples')\n",
    "print('KNN estimation using 5 neighbors')\n",
    "print(classification_report(y, y_pred_knn))\n",
    "plt.show()"
   ]
  },
  {
   "cell_type": "markdown",
   "id": "a6491c47",
   "metadata": {
    "slideshow": {
     "slide_type": "skip"
    }
   },
   "source": [
    "The recall is inferior to previous alternatives."
   ]
  },
  {
   "cell_type": "code",
   "execution_count": 171,
   "id": "1715f2f5",
   "metadata": {
    "slideshow": {
     "slide_type": "skip"
    }
   },
   "outputs": [],
   "source": [
    "tndf5=df[(df['pred_prob_knn']==0) & (df['bad_transaction']==0)]"
   ]
  },
  {
   "cell_type": "code",
   "execution_count": 172,
   "id": "f58b1ffa",
   "metadata": {
    "slideshow": {
     "slide_type": "skip"
    }
   },
   "outputs": [
    {
     "data": {
      "text/plain": [
       "(644, 15)"
      ]
     },
     "execution_count": 172,
     "metadata": {},
     "output_type": "execute_result"
    }
   ],
   "source": [
    "tndf5.shape"
   ]
  },
  {
   "cell_type": "code",
   "execution_count": 173,
   "id": "6c3ca136",
   "metadata": {
    "slideshow": {
     "slide_type": "skip"
    }
   },
   "outputs": [],
   "source": [
    "fndf5=df[(df['pred_prob_knn']==0) & (df['bad_transaction']==1)]"
   ]
  },
  {
   "cell_type": "code",
   "execution_count": 174,
   "id": "09f31e75",
   "metadata": {
    "slideshow": {
     "slide_type": "skip"
    }
   },
   "outputs": [
    {
     "data": {
      "text/plain": [
       "(105, 15)"
      ]
     },
     "execution_count": 174,
     "metadata": {},
     "output_type": "execute_result"
    }
   ],
   "source": [
    "fndf5.shape"
   ]
  },
  {
   "cell_type": "code",
   "execution_count": 175,
   "id": "77fee061",
   "metadata": {
    "slideshow": {
     "slide_type": "skip"
    }
   },
   "outputs": [],
   "source": [
    "Revenue5=0.05*(tndf5['transaction'].sum())"
   ]
  },
  {
   "cell_type": "code",
   "execution_count": 176,
   "id": "8acdd8bb",
   "metadata": {
    "slideshow": {
     "slide_type": "skip"
    }
   },
   "outputs": [
    {
     "data": {
      "text/plain": [
       "2380.5"
      ]
     },
     "execution_count": 176,
     "metadata": {},
     "output_type": "execute_result"
    }
   ],
   "source": [
    "Revenue5"
   ]
  },
  {
   "cell_type": "code",
   "execution_count": 177,
   "id": "463acf54",
   "metadata": {
    "slideshow": {
     "slide_type": "skip"
    }
   },
   "outputs": [],
   "source": [
    "loss5=(fndf5['transaction'].sum())"
   ]
  },
  {
   "cell_type": "code",
   "execution_count": 178,
   "id": "40451169",
   "metadata": {
    "slideshow": {
     "slide_type": "skip"
    }
   },
   "outputs": [
    {
     "data": {
      "text/plain": [
       "8032"
      ]
     },
     "execution_count": 178,
     "metadata": {},
     "output_type": "execute_result"
    }
   ],
   "source": [
    "loss5"
   ]
  },
  {
   "cell_type": "code",
   "execution_count": 140,
   "id": "ada4e8e1",
   "metadata": {
    "slideshow": {
     "slide_type": "skip"
    }
   },
   "outputs": [],
   "source": [
    "Profit5=Revenue5-loss5"
   ]
  },
  {
   "cell_type": "code",
   "execution_count": 179,
   "id": "bcaac576",
   "metadata": {
    "slideshow": {
     "slide_type": "skip"
    }
   },
   "outputs": [
    {
     "data": {
      "text/plain": [
       "-5651.5"
      ]
     },
     "execution_count": 179,
     "metadata": {},
     "output_type": "execute_result"
    }
   ],
   "source": [
    "Profit5"
   ]
  },
  {
   "cell_type": "markdown",
   "id": "0a44317e",
   "metadata": {
    "slideshow": {
     "slide_type": "skip"
    }
   },
   "source": [
    "This model is inferior to the previous ones. "
   ]
  },
  {
   "cell_type": "markdown",
   "id": "fa12a018",
   "metadata": {
    "slideshow": {
     "slide_type": "slide"
    }
   },
   "source": [
    "**Business metrics for KNN model:**\n",
    "\n",
    "- Income from good transactions: 2380.5  \n",
    "- Loss from bad transactions: -8032  \n",
    "- **Net loss: -5651.5**\n",
    "\n",
    "This is a worse model because of a lower recall. "
   ]
  },
  {
   "cell_type": "markdown",
   "id": "8868fc80",
   "metadata": {
    "slideshow": {
     "slide_type": "slide"
    }
   },
   "source": [
    "## Conclusion"
   ]
  },
  {
   "cell_type": "markdown",
   "id": "fee9e10a",
   "metadata": {
    "slideshow": {
     "slide_type": "-"
    }
   },
   "source": [
    "- The company is losing money and needs to introduce some type of risk scoring system. \n",
    "- In terms of practicality, since the company is already paying for but not using Score 1 or Score 2, it should begin filtering clients using an interaction term of the two. The more stringent definition of risk diminishes net loss from 9400 dollars to 3607. This can be implemented right away so the company loses less money. \n",
    "- There are not enough observations yet to conduct a proper ML analysis with train and test sets. \n",
    "- Nevertheless, the logistic regression model using the Stats API does provide a smaller loss when the threshold for positivity is lowered to 0.25. The recall for this model is similar to that of interaction_2, yet it identifies more true negatives.  \n",
    "- Overall, low accuracy, precision and recall are indicative of insuficient data, not just in quantity of observations but perhaps also in additional features to explain the target. "
   ]
  }
 ],
 "metadata": {
  "celltoolbar": "Slideshow",
  "kernelspec": {
   "display_name": "Python 3 (ipykernel)",
   "language": "python",
   "name": "python3"
  },
  "language_info": {
   "codemirror_mode": {
    "name": "ipython",
    "version": 3
   },
   "file_extension": ".py",
   "mimetype": "text/x-python",
   "name": "python",
   "nbconvert_exporter": "python",
   "pygments_lexer": "ipython3",
   "version": "3.10.6"
  },
  "toc": {
   "base_numbering": 1,
   "nav_menu": {},
   "number_sections": true,
   "sideBar": true,
   "skip_h1_title": true,
   "title_cell": "Table of Contents",
   "title_sidebar": "Contents",
   "toc_cell": false,
   "toc_position": {
    "height": "calc(100% - 180px)",
    "left": "10px",
    "top": "150px",
    "width": "341.333px"
   },
   "toc_section_display": true,
   "toc_window_display": true
  },
  "varInspector": {
   "cols": {
    "lenName": 16,
    "lenType": 16,
    "lenVar": 40
   },
   "kernels_config": {
    "python": {
     "delete_cmd_postfix": "",
     "delete_cmd_prefix": "del ",
     "library": "var_list.py",
     "varRefreshCmd": "print(var_dic_list())"
    },
    "r": {
     "delete_cmd_postfix": ") ",
     "delete_cmd_prefix": "rm(",
     "library": "var_list.r",
     "varRefreshCmd": "cat(var_dic_list()) "
    }
   },
   "types_to_exclude": [
    "module",
    "function",
    "builtin_function_or_method",
    "instance",
    "_Feature"
   ],
   "window_display": false
  }
 },
 "nbformat": 4,
 "nbformat_minor": 5
}
